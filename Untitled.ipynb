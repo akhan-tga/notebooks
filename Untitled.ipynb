{
 "cells": [
  {
   "cell_type": "code",
   "execution_count": 1,
   "id": "308a9b24-edf7-429f-9931-255b962cb569",
   "metadata": {},
   "outputs": [],
   "source": [
    "obj = {\n",
    "  \"project_id\": \"77429b69-6c0f-4ed3-83b2-b59d36276843\",\n",
    "  \"version\": \"haynesville_dag1\",\n",
    "  \"batch_size\": \"10000\",\n",
    "  \"mode\": \"train\",\n",
    "  \"Tasks\": [\n",
    "    {\n",
    "      \"task_key\": \"task2\",\n",
    "      \"task_type\": \"Data_Ingestion\",\n",
    "      \"depends_on\": [],\n",
    "      \"is_scheduled\": \"1\",\n",
    "      \"is_mutated\": 0,\n",
    "      \"table_id\": \"62cfb47ddeda43bab6724505\"\n",
    "    },\n",
    "    {\n",
    "      \"task_key\": \"task3\",\n",
    "      \"task_type\": \"Transform\",\n",
    "      \"depends_on\": [\n",
    "        {\n",
    "          \"task_key\": \"task2\"\n",
    "        }\n",
    "      ],\n",
    "      \"is_scheduled\": \"1\",\n",
    "      \"is_mutated\": 0,\n",
    "      \"transform_info\": \"{\\\"transformation_type\\\":\\\"T58\\\",\\\"filter_objects\\\":[{\\\"column_name\\\":\\\"HoleDirection\\\",\\\"condition_id\\\":1,\\\"values\\\":\\\"H\\\"}],\\\"is_scheduled\\\":true,\\\"final_transform\\\":false}\"\n",
    "    },\n",
    "    {\n",
    "      \"task_key\": \"task4\",\n",
    "      \"task_type\": \"Transform\",\n",
    "      \"depends_on\": [\n",
    "        {\n",
    "          \"task_key\": \"task3\"\n",
    "        }\n",
    "      ],\n",
    "      \"is_scheduled\": \"1\",\n",
    "      \"is_mutated\": 0,\n",
    "      \"transform_info\": \"{\\\"transformation_type\\\":\\\"T22\\\",\\\"column_operator_pairs\\\":[{\\\"column_1\\\":\\\"Proppant_LBS\\\",\\\"column_2\\\":\\\"LateralLength_FT\\\",\\\"operator\\\":4,\\\"new_column_name\\\":\\\"Proppant_LBSPerFT\\\"}],\\\"is_scheduled\\\":true,\\\"final_transform\\\":false}\"\n",
    "    },\n",
    "    {\n",
    "      \"task_key\": \"task5\",\n",
    "      \"task_type\": \"Data_Ingestion\",\n",
    "      \"depends_on\": [],\n",
    "      \"is_scheduled\": \"1\",\n",
    "      \"is_mutated\": 0,\n",
    "      \"table_id\": \"62cfa62795b818df8b449e3e\"\n",
    "    },\n",
    "    {\n",
    "      \"task_key\": \"task6\",\n",
    "      \"task_type\": \"Data_Ingestion\",\n",
    "      \"depends_on\": [],\n",
    "      \"is_scheduled\": \"1\",\n",
    "      \"is_mutated\": 0,\n",
    "      \"table_id\": \"62cfb430f5eb90a12b221fa1\"\n",
    "    },\n",
    "    {\n",
    "      \"task_key\": \"task8\",\n",
    "      \"task_type\": \"Transform\",\n",
    "      \"depends_on\": [\n",
    "        {\n",
    "          \"task_key\": \"task4\"\n",
    "        }\n",
    "      ],\n",
    "      \"is_scheduled\": \"1\",\n",
    "      \"is_mutated\": 0,\n",
    "      \"transform_info\": \"{\\\"transformation_type\\\":\\\"T21\\\",\\\"columns\\\":[\\\"API12\\\",\\\"API14\\\"],\\\"option\\\":1,\\\"is_scheduled\\\":true,\\\"final_transform\\\":false}\"\n",
    "    },\n",
    "    {\n",
    "      \"task_key\": \"task15\",\n",
    "      \"task_type\": \"Transform\",\n",
    "      \"depends_on\": [\n",
    "        {\n",
    "          \"task_key\": \"task6\"\n",
    "        }\n",
    "      ],\n",
    "      \"is_scheduled\": \"1\",\n",
    "      \"is_mutated\": 0,\n",
    "      \"transform_info\": \"{\\\"transformation_type\\\":\\\"T34\\\",\\\"old_new_name_pairs\\\":[{\\\"old_name\\\":\\\"GovernmentID\\\",\\\"new_name\\\":\\\"API12\\\"}],\\\"is_scheduled\\\":true,\\\"final_transform\\\":false}\"\n",
    "    },\n",
    "    {\n",
    "      \"task_key\": \"task16\",\n",
    "      \"task_type\": \"Transform\",\n",
    "      \"depends_on\": [\n",
    "        {\n",
    "          \"task_key\": \"task5\"\n",
    "        },\n",
    "        {\n",
    "          \"task_key\": \"task8\"\n",
    "        }\n",
    "      ],\n",
    "      \"is_scheduled\": \"1\",\n",
    "      \"is_mutated\": 0,\n",
    "      \"transform_info\": \"{\\\"transformation_type\\\":\\\"T12\\\",\\\"left_key_columns\\\":[\\\"API12\\\"],\\\"right_key_columns\\\":[\\\"API12\\\"],\\\"join_type\\\":1,\\\"is_scheduled\\\":true,\\\"final_transform\\\":false}\"\n",
    "    },\n",
    "    {\n",
    "      \"task_key\": \"task18\",\n",
    "      \"task_type\": \"Transform\",\n",
    "      \"depends_on\": [\n",
    "        {\n",
    "          \"task_key\": \"task16\"\n",
    "        }\n",
    "      ],\n",
    "      \"is_scheduled\": \"1\",\n",
    "      \"is_mutated\": 0,\n",
    "      \"transform_info\": \"{\\\"transformation_type\\\":\\\"T21\\\",\\\"columns\\\":[\\\"API12\\\",\\\"API12_dup_1\\\"],\\\"option\\\":2,\\\"is_scheduled\\\":true,\\\"final_transform\\\":false}\"\n",
    "    },\n",
    "    {\n",
    "      \"task_key\": \"task19\",\n",
    "      \"task_type\": \"Transform\",\n",
    "      \"depends_on\": [\n",
    "        {\n",
    "          \"task_key\": \"task8\"\n",
    "        },\n",
    "        {\n",
    "          \"task_key\": \"task15\"\n",
    "        }\n",
    "      ],\n",
    "      \"is_scheduled\": \"1\",\n",
    "      \"is_mutated\": 0,\n",
    "      \"transform_info\": \"{\\\"transformation_type\\\":\\\"T12\\\",\\\"left_key_columns\\\":[\\\"API12\\\"],\\\"right_key_columns\\\":[\\\"API12\\\"],\\\"join_type\\\":1,\\\"is_scheduled\\\":true,\\\"final_transform\\\":false}\"\n",
    "    },\n",
    "    {\n",
    "      \"task_key\": \"task20\",\n",
    "      \"task_type\": \"Transform\",\n",
    "      \"depends_on\": [\n",
    "        {\n",
    "          \"task_key\": \"task19\"\n",
    "        }\n",
    "      ],\n",
    "      \"is_scheduled\": \"1\",\n",
    "      \"is_mutated\": 0,\n",
    "      \"transform_info\": \"{\\\"transformation_type\\\":\\\"T21\\\",\\\"columns\\\":[\\\"API12\\\"],\\\"option\\\":2,\\\"is_scheduled\\\":true,\\\"final_transform\\\":false}\"\n",
    "    },\n",
    "    {\n",
    "      \"task_key\": \"task26\",\n",
    "      \"task_type\": \"Transform\",\n",
    "      \"depends_on\": [\n",
    "        {\n",
    "          \"task_key\": \"task31\"\n",
    "        }\n",
    "      ],\n",
    "      \"is_scheduled\": \"1\",\n",
    "      \"is_mutated\": 1,\n",
    "      \"transform_info\": \"{\\\"transformation_type\\\":\\\"T2\\\",\\\"columns\\\":[\\\"API14\\\"],\\\"is_scheduled\\\":true,\\\"final_transform\\\":false}\"\n",
    "    },\n",
    "    {\n",
    "      \"task_key\": \"task27\",\n",
    "      \"task_type\": \"Transform\",\n",
    "      \"depends_on\": [\n",
    "        {\n",
    "          \"task_key\": \"task26\"\n",
    "        },\n",
    "        {\n",
    "          \"task_key\": \"task18\"\n",
    "        }\n",
    "      ],\n",
    "      \"is_scheduled\": \"1\",\n",
    "      \"is_mutated\": 0,\n",
    "      \"transform_info\": \"{\\\"transformation_type\\\":\\\"T55\\\",\\\"join_key_list\\\":[{\\\"keys\\\":[\\\"API14\\\"],\\\"join_type\\\":1}],\\\"is_scheduled\\\":true,\\\"final_transform\\\":false}\"\n",
    "    },\n",
    "    {\n",
    "      \"task_key\": \"task28\",\n",
    "      \"task_type\": \"Transform\",\n",
    "      \"depends_on\": [\n",
    "        {\n",
    "          \"task_key\": \"task26\"\n",
    "        },\n",
    "        {\n",
    "          \"task_key\": \"task20\"\n",
    "        }\n",
    "      ],\n",
    "      \"is_scheduled\": \"1\",\n",
    "      \"is_mutated\": 0,\n",
    "      \"transform_info\": \"{\\\"transformation_type\\\":\\\"T55\\\",\\\"join_key_list\\\":[{\\\"keys\\\":[\\\"API14\\\"],\\\"join_type\\\":1}],\\\"is_scheduled\\\":true,\\\"final_transform\\\":false}\"\n",
    "    },\n",
    "    {\n",
    "      \"task_key\": \"task29\",\n",
    "      \"task_type\": \"Data_Ingestion\",\n",
    "      \"depends_on\": [],\n",
    "      \"is_scheduled\": \"1\",\n",
    "      \"is_mutated\": 0,\n",
    "      \"table_id\": \"62cfb4d2deda43bab672450b\"\n",
    "    },\n",
    "    {\n",
    "      \"task_key\": \"task30\",\n",
    "      \"task_type\": \"Transform\",\n",
    "      \"depends_on\": [\n",
    "        {\n",
    "          \"task_key\": \"task26\"\n",
    "        },\n",
    "        {\n",
    "          \"task_key\": \"task29\"\n",
    "        }\n",
    "      ],\n",
    "      \"is_scheduled\": \"1\",\n",
    "      \"is_mutated\": 0,\n",
    "      \"transform_info\": \"{\\\"transformation_type\\\":\\\"T55\\\",\\\"join_key_list\\\":[{\\\"keys\\\":[\\\"API14\\\"],\\\"join_type\\\":1}],\\\"is_scheduled\\\":true,\\\"final_transform\\\":false}\"\n",
    "    },\n",
    "    {\n",
    "      \"task_key\": \"task31\",\n",
    "      \"task_type\": \"Transform\",\n",
    "      \"depends_on\": [\n",
    "        {\n",
    "          \"task_key\": \"task4\"\n",
    "        }\n",
    "      ],\n",
    "      \"is_scheduled\": \"1\",\n",
    "      \"is_mutated\": 0,\n",
    "      \"transform_info\": \"{\\\"transformation_type\\\":\\\"T21\\\",\\\"columns\\\":[\\\"API14\\\"],\\\"option\\\":1,\\\"is_scheduled\\\":true,\\\"final_transform\\\":false}\"\n",
    "    },\n",
    "    {\n",
    "      \"task_key\": \"task33\",\n",
    "      \"task_type\": \"Transform\",\n",
    "      \"depends_on\": [\n",
    "        {\n",
    "          \"task_key\": \"task4\"\n",
    "        }\n",
    "      ],\n",
    "      \"is_scheduled\": \"1\",\n",
    "      \"is_mutated\": 1,\n",
    "      \"transform_info\": \"{\\\"transformation_type\\\":\\\"T21\\\",\\\"columns\\\":[\\\"API10\\\",\\\"API12\\\",\\\"API14\\\",\\\"CompletionDate\\\",\\\"Fluid_BBLPerFT\\\",\\\"LateralLength_FT\\\",\\\"LatitudeBHNAD27\\\",\\\"LongitudeBHNAD27\\\",\\\"OperatorGold\\\",\\\"Proppant_LBSPerFT\\\",\\\"ReservoirGold\\\",\\\"TVD_FT\\\"],\\\"option\\\":1,\\\"is_scheduled\\\":true,\\\"final_transform\\\":false}\"\n",
    "    },\n",
    "    {\n",
    "      \"task_key\": \"task34\",\n",
    "      \"task_type\": \"Transform\",\n",
    "      \"depends_on\": [\n",
    "        {\n",
    "          \"task_key\": \"task27\"\n",
    "        }\n",
    "      ],\n",
    "      \"is_scheduled\": \"1\",\n",
    "      \"is_mutated\": 0,\n",
    "      \"transform_info\": \"{\\\"transformation_type\\\":\\\"T21\\\",\\\"columns\\\":[\\\"API14\\\",\\\"ParentChildBoundingAnyZoneAtDrill\\\",\\\"ParentChildBoundingHzAtDrill\\\",\\\"ParentChildBoundingAboveAtDrill\\\",\\\"ParentChildBoundingBelowAtDrill\\\",\\\"ParentChildBoundingStackedAtDrill\\\",\\\"ParentChildAnyZone\\\",\\\"ParentChildHz\\\",\\\"ParentChildAbove\\\",\\\"ParentChildBelow\\\",\\\"ParentChildStacked\\\"],\\\"option\\\":1,\\\"is_scheduled\\\":true,\\\"final_transform\\\":false}\"\n",
    "    },\n",
    "    {\n",
    "      \"task_key\": \"task35\",\n",
    "      \"task_type\": \"Transform\",\n",
    "      \"depends_on\": [\n",
    "        {\n",
    "          \"task_key\": \"task28\"\n",
    "        }\n",
    "      ],\n",
    "      \"is_scheduled\": \"1\",\n",
    "      \"is_mutated\": 0,\n",
    "      \"transform_info\": \"{\\\"transformation_type\\\":\\\"T21\\\",\\\"columns\\\":[\\\"API14\\\",\\\"HSVLL_CLAMP_AVG\\\",\\\"GLMR_STRUCT_2ND_RESID\\\",\\\"HSVLL_RES_PRESSURE\\\",\\\"HSVLL_RES_TEMP\\\",\\\"HSVLL_OGIP\\\",\\\"HSVLL_PGRAD\\\",\\\"HSVLL_RICHNESS_BCFT\\\",\\\"HSVLL_TGRAD\\\",\\\"HSVLL_PHIT_AVG\\\",\\\"HSVLL_VCLAY\\\",\\\"HSVLL_VCARB\\\",\\\"HSVLL_TOC\\\"],\\\"option\\\":1,\\\"is_scheduled\\\":true,\\\"final_transform\\\":false}\"\n",
    "    },\n",
    "    {\n",
    "      \"task_key\": \"task36\",\n",
    "      \"task_type\": \"Transform\",\n",
    "      \"depends_on\": [\n",
    "        {\n",
    "          \"task_key\": \"task30\"\n",
    "        }\n",
    "      ],\n",
    "      \"is_scheduled\": \"1\",\n",
    "      \"is_mutated\": 0,\n",
    "      \"transform_info\": \"{\\\"transformation_type\\\":\\\"T21\\\",\\\"columns\\\":[\\\"API14\\\",\\\"GasCum1MonthPublic_MCF\\\",\\\"GasCum3MonthPublic_MCF\\\",\\\"GasCum6MonthPublic_MCF\\\",\\\"GasCum9MonthPublic_MCF\\\",\\\"GasCum12MonthPublic_MCF\\\",\\\"GasCum24MonthPublic_MCF\\\",\\\"GasCum60MonthPublic_MCF\\\"],\\\"option\\\":1,\\\"is_scheduled\\\":true,\\\"final_transform\\\":false}\"\n",
    "    },\n",
    "    {\n",
    "      \"task_key\": \"task37\",\n",
    "      \"task_type\": \"Transform\",\n",
    "      \"depends_on\": [\n",
    "        {\n",
    "          \"task_key\": \"task36\"\n",
    "        }\n",
    "      ],\n",
    "      \"is_mutated\": 0,\n",
    "      \"is_scheduled\": \"1\",\n",
    "      \"transform_info\": \"{\\\"transformation_type\\\":\\\"T22\\\",\\\"column_operator_pairs\\\":[{\\\"column_1\\\":\\\"GasCum3MonthPublic_MCF\\\",\\\"column_2\\\":\\\"GasCum1MonthPublic_MCF\\\",\\\"operator\\\":2,\\\"new_column_name\\\":\\\"GasCum3MonthPublic_MCF_Delta\\\"},{\\\"column_1\\\":\\\"GasCum6MonthPublic_MCF\\\",\\\"column_2\\\":\\\"GasCum3MonthPublic_MCF\\\",\\\"operator\\\":2,\\\"new_column_name\\\":\\\"GasCum6MonthPublic_MCF_Delta\\\"},{\\\"column_1\\\":\\\"GasCum9MonthPublic_MCF\\\",\\\"column_2\\\":\\\"GasCum6MonthPublic_MCF\\\",\\\"operator\\\":2,\\\"new_column_name\\\":\\\"GasCum9MonthPublic_MCF_Delta\\\"},{\\\"column_1\\\":\\\"GasCum12MonthPublic_MCF\\\",\\\"column_2\\\":\\\"GasCum9MonthPublic_MCF\\\",\\\"operator\\\":2,\\\"new_column_name\\\":\\\"GasCum12MonthPublic_MCF_Delta\\\"},{\\\"column_1\\\":\\\"GasCum24MonthPublic_MCF\\\",\\\"column_2\\\":\\\"GasCum12MonthPublic_MCF\\\",\\\"operator\\\":2,\\\"new_column_name\\\":\\\"GasCum24MonthPublic_MCF_Delta\\\"},{\\\"column_1\\\":\\\"GasCum60MonthPublic_MCF\\\",\\\"column_2\\\":\\\"GasCum24MonthPublic_MCF\\\",\\\"operator\\\":2,\\\"new_column_name\\\":\\\"GasCum60MonthPublic_MCF_Delta\\\"}],\\\"is_scheduled\\\":true,\\\"final_transform\\\":false}\"\n",
    "    },\n",
    "    {\n",
    "      \"task_key\": \"task38\",\n",
    "      \"task_type\": \"Transform\",\n",
    "      \"depends_on\": [\n",
    "        {\n",
    "          \"task_key\": \"task33\"\n",
    "        },\n",
    "        {\n",
    "          \"task_key\": \"task34\"\n",
    "        },\n",
    "        {\n",
    "          \"task_key\": \"task35\"\n",
    "        },\n",
    "        {\n",
    "          \"task_key\": \"task37\"\n",
    "        }\n",
    "      ],\n",
    "      \"is_scheduled\": \"1\",\n",
    "      \"is_mutated\": 0,\n",
    "      \"transform_info\": \"{\\\"transformation_type\\\":\\\"T55\\\",\\\"join_key_list\\\":[{\\\"keys\\\":[\\\"API14\\\"],\\\"join_type\\\":1},{\\\"keys\\\":[\\\"API14\\\"],\\\"join_type\\\":1},{\\\"keys\\\":[\\\"API14\\\"],\\\"join_type\\\":1}],\\\"is_scheduled\\\":true,\\\"final_transform\\\":true}\"\n",
    "    }\n",
    "  ],\n",
    "  \"quartz_cron_expression\": \"0 0 1 1 * ?\",\n",
    "  \"state_object\": \"{\\\"lastNodeKey\\\":38,\\\"transformerNodes\\\":[{\\\"childs\\\":[\\\"3\\\",\\\"3\\\"],\\\"outputTable\\\":{\\\"PREVIEW\\\":{\\\"tableId\\\":\\\"62cfb47ddeda43bab6724505\\\",\\\"tableName\\\":\\\"OneLine_QB\\\"},\\\"TRAIN\\\":{\\\"tableId\\\":\\\"62cfb47ddeda43bab6724505\\\",\\\"tableName\\\":\\\"OneLine_QB\\\"}},\\\"parameters\\\":[{\\\"key\\\":\\\"table\\\",\\\"type\\\":\\\"select\\\",\\\"templateOptions\\\":{\\\"label\\\":\\\"Select Table\\\",\\\"options\\\":[{\\\"value\\\":\\\"62cfb4d2deda43bab672450b\\\",\\\"label\\\":\\\"ProdMetrics_QB\\\"},{\\\"value\\\":\\\"62cfb47ddeda43bab6724505\\\",\\\"label\\\":\\\"OneLine_QB\\\"},{\\\"value\\\":\\\"62cfb430f5eb90a12b221fa1\\\",\\\"label\\\":\\\"DIBI_Trajectories\\\"},{\\\"value\\\":\\\"62cfa62795b818df8b449e3e\\\",\\\"label\\\":\\\"ParentChild_QB_New\\\"}],\\\"description\\\":\\\"Select the source table\\\",\\\"required\\\":true,\\\"multiple\\\":false,\\\"placeholder\\\":\\\"\\\",\\\"focus\\\":false,\\\"disabled\\\":false,\\\"_flatOptions\\\":true},\\\"id\\\":\\\"formly_2_select_table_0\\\",\\\"hooks\\\":{},\\\"modelOptions\\\":{},\\\"validation\\\":{\\\"messages\\\":{}},\\\"wrappers\\\":[\\\"form-field\\\"],\\\"_keyPath\\\":{\\\"key\\\":\\\"table\\\",\\\"path\\\":[\\\"table\\\"]}},{\\\"key\\\":\\\"is_scheduled\\\",\\\"type\\\":\\\"checkbox\\\",\\\"templateOptions\\\":{\\\"label\\\":\\\"Is Scheduled?\\\",\\\"placeholder\\\":\\\"\\\",\\\"focus\\\":false,\\\"disabled\\\":false,\\\"indeterminate\\\":true,\\\"hideLabel\\\":true,\\\"formCheck\\\":\\\"custom\\\"},\\\"id\\\":\\\"formly_2_checkbox_is_scheduled_1\\\",\\\"hooks\\\":{},\\\"modelOptions\\\":{},\\\"validation\\\":{\\\"messages\\\":{}},\\\"wrappers\\\":[\\\"form-field\\\"],\\\"_keyPath\\\":{\\\"key\\\":\\\"is_scheduled\\\",\\\"path\\\":[\\\"is_scheduled\\\"]}}],\\\"be_transformation_id\\\":\\\"T0\\\",\\\"be_transformation_name\\\":\\\"Select Source\\\",\\\"fe_transformation_name\\\":\\\"Select Source\\\",\\\"fe_transformation_id\\\":\\\"S0\\\",\\\"infoContent\\\":null,\\\"isMultiJoin\\\":false,\\\"hasIndexDropdown\\\":false,\\\"parents\\\":[],\\\"formData\\\":{\\\"tableName\\\":\\\"OneLine_QB\\\",\\\"tableId\\\":\\\"62cfb47ddeda43bab6724505\\\"},\\\"nodeTables\\\":[],\\\"isSource\\\":true,\\\"nodeKey\\\":\\\"2\\\",\\\"backgroundColor\\\":\\\"#c5ecdf\\\",\\\"color\\\":\\\"#a95963\\\",\\\"status\\\":\\\"success\\\",\\\"nodeLevel\\\":0,\\\"showOptions\\\":false,\\\"showEdit\\\":false},{\\\"childs\\\":[\\\"4\\\",\\\"4\\\",\\\"4\\\",\\\"4\\\"],\\\"outputTable\\\":{\\\"PREVIEW\\\":{\\\"tableName\\\":\\\"Simple_filter_task3_preview\\\",\\\"tableId\\\":\\\"62ceb4f54215deaa318a5511\\\"},\\\"TRAIN\\\":{\\\"tableName\\\":\\\"Simple_filter_task3\\\",\\\"tableId\\\":\\\"62d01ede37c55171d31266e2\\\"}},\\\"parameters\\\":[{\\\"key\\\":\\\"filter_objects\\\",\\\"type\\\":\\\"repeat\\\",\\\"fieldArray\\\":{\\\"fieldGroupClassName\\\":\\\"form-row\\\",\\\"templateOptions\\\":{\\\"btnText\\\":\\\"Add Row\\\"},\\\"fieldGroup\\\":[{\\\"key\\\":\\\"column_name\\\",\\\"type\\\":\\\"select\\\",\\\"templateOptions\\\":{\\\"label\\\":\\\"Select Column\\\",\\\"options\\\":[],\\\"description\\\":\\\"Select column for filtering\\\",\\\"required\\\":true,\\\"isStatic\\\":false,\\\"multiple\\\":false}},{\\\"key\\\":\\\"condition_id\\\",\\\"type\\\":\\\"select\\\",\\\"templateOptions\\\":{\\\"label\\\":\\\"Select Condition\\\",\\\"multiple\\\":false,\\\"description\\\":\\\"filter conditions to be applied on the dataset\\\",\\\"required\\\":false,\\\"isStatic\\\":true,\\\"options\\\":[{\\\"value\\\":1,\\\"label\\\":\\\"equals\\\"},{\\\"value\\\":2,\\\"label\\\":\\\"is not\\\"},{\\\"value\\\":3,\\\"label\\\":\\\"is below\\\"},{\\\"value\\\":4,\\\"label\\\":\\\"is equal and below\\\"},{\\\"value\\\":5,\\\"label\\\":\\\"is above\\\"},{\\\"value\\\":6,\\\"label\\\":\\\"is above and equal\\\"},{\\\"value\\\":7,\\\"label\\\":\\\"is null\\\"},{\\\"value\\\":8,\\\"label\\\":\\\"is not null\\\"},{\\\"value\\\":9,\\\"label\\\":\\\"is between (includes extreme values)\\\"},{\\\"value\\\":10,\\\"label\\\":\\\" is not between (includes extreme values)\\\"},{\\\"value\\\":11,\\\"label\\\":\\\"is outside\\\"},{\\\"value\\\":12,\\\"label\\\":\\\"is in\\\"}]}},{\\\"key\\\":\\\"values\\\",\\\"type\\\":\\\"input\\\",\\\"templateOptions\\\":{\\\"type\\\":\\\"string\\\",\\\"label\\\":\\\"Enter the Values\\\",\\\"placeholder\\\":\\\"Enter input for filter\\\",\\\"description\\\":\\\"Enter input for filter\\\",\\\"isStatic\\\":false,\\\"required\\\":true}}]}},{\\\"key\\\":\\\"is_scheduled\\\",\\\"type\\\":\\\"checkbox\\\",\\\"templateOptions\\\":{\\\"label\\\":\\\"Is Scheduled?\\\"}}],\\\"be_transformation_id\\\":\\\"T58\\\",\\\"be_transformation_name\\\":\\\"Simple Filter\\\",\\\"fe_transformation_name\\\":\\\"Simple Filter\\\",\\\"fe_transformation_id\\\":\\\"FD3\\\",\\\"infoContent\\\":null,\\\"isMultiJoin\\\":false,\\\"hasIndexDropdown\\\":false,\\\"parents\\\":[\\\"2\\\"],\\\"formData\\\":{\\\"filter_objects\\\":[{\\\"column_name\\\":\\\"HoleDirection\\\",\\\"condition_id\\\":1,\\\"values\\\":\\\"H\\\"}],\\\"is_scheduled\\\":true},\\\"nodeTables\\\":[{\\\"tableId\\\":\\\"62cd686dfb55e4365602b210\\\",\\\"tableName\\\":\\\"OneLine_QB_ARKLATEX_changed_01\\\"}],\\\"isSource\\\":false,\\\"nodeKey\\\":\\\"3\\\",\\\"color\\\":\\\"#50abcc\\\",\\\"status\\\":\\\"\\\",\\\"nodeLevel\\\":1,\\\"showOptions\\\":false,\\\"showEdit\\\":false},{\\\"childs\\\":[\\\"8\\\",\\\"8\\\",\\\"18\\\",\\\"31\\\",\\\"31\\\",\\\"33\\\"],\\\"outputTable\\\":{\\\"PREVIEW\\\":{\\\"tableName\\\":\\\"Arithmetic Operations_task4_preview\\\",\\\"tableId\\\":\\\"62ceb524dac902963ca49393\\\"},\\\"TRAIN\\\":{\\\"tableName\\\":\\\"Arithmetic Operations_task4\\\",\\\"tableId\\\":\\\"62d01f030448823fad903f0b\\\"}},\\\"parameters\\\":[{\\\"key\\\":\\\"column_operator_pairs\\\",\\\"type\\\":\\\"repeat\\\",\\\"fieldArray\\\":{\\\"fieldGroupClassName\\\":\\\"form-row\\\",\\\"templateOptions\\\":{\\\"btnText\\\":\\\"Add Row\\\"},\\\"fieldGroup\\\":[{\\\"key\\\":\\\"column_1\\\",\\\"type\\\":\\\"select\\\",\\\"templateOptions\\\":{\\\"label\\\":\\\"Select Column 1\\\",\\\"options\\\":[],\\\"description\\\":\\\"Select column 1\\\",\\\"required\\\":true,\\\"isStatic\\\":false,\\\"multiple\\\":false}},{\\\"key\\\":\\\"column_2\\\",\\\"type\\\":\\\"select\\\",\\\"templateOptions\\\":{\\\"label\\\":\\\"Select Column 2\\\",\\\"options\\\":[],\\\"description\\\":\\\"Select column 2\\\",\\\"required\\\":true,\\\"isStatic\\\":false,\\\"multiple\\\":false}},{\\\"key\\\":\\\"operator\\\",\\\"type\\\":\\\"select\\\",\\\"templateOptions\\\":{\\\"label\\\":\\\"Select the Operator\\\",\\\"multiple\\\":false,\\\"description\\\":\\\"Select an arithmetic operator\\\",\\\"required\\\":true,\\\"isStatic\\\":true,\\\"options\\\":[{\\\"value\\\":1,\\\"label\\\":\\\"Addition\\\"},{\\\"value\\\":2,\\\"label\\\":\\\"Subtraction\\\"},{\\\"value\\\":3,\\\"label\\\":\\\"Multiplication\\\"},{\\\"value\\\":4,\\\"label\\\":\\\"Division\\\"}]}},{\\\"key\\\":\\\"new_column_name\\\",\\\"type\\\":\\\"input\\\",\\\"templateOptions\\\":{\\\"type\\\":\\\"string\\\",\\\"label\\\":\\\"Enter the Name of the New Column\\\",\\\"placeholder\\\":\\\"Enter the new column name\\\",\\\"description\\\":\\\"Enter the new column name\\\",\\\"required\\\":true}}]}},{\\\"key\\\":\\\"is_scheduled\\\",\\\"type\\\":\\\"checkbox\\\",\\\"templateOptions\\\":{\\\"label\\\":\\\"Is Scheduled?\\\"}}],\\\"be_transformation_id\\\":\\\"T22\\\",\\\"be_transformation_name\\\":\\\"arithematic_operation_btw_cols\\\",\\\"fe_transformation_name\\\":\\\"Arithmetic Operation\\\",\\\"fe_transformation_id\\\":\\\"E7\\\",\\\"infoContent\\\":null,\\\"isMultiJoin\\\":false,\\\"hasIndexDropdown\\\":false,\\\"parents\\\":[\\\"3\\\"],\\\"formData\\\":{\\\"column_operator_pairs\\\":[{\\\"column_1\\\":\\\"Proppant_LBS\\\",\\\"column_2\\\":\\\"LateralLength_FT\\\",\\\"operator\\\":4,\\\"new_column_name\\\":\\\"Proppant_LBSPerFT\\\"}],\\\"is_scheduled\\\":true},\\\"nodeTables\\\":[{\\\"tableName\\\":\\\"Simple_filter_task3_preview\\\",\\\"tableId\\\":\\\"62cd9fb84c582bcf96e0d80c\\\"}],\\\"isSource\\\":false,\\\"nodeKey\\\":\\\"4\\\",\\\"color\\\":\\\"#a8385d\\\",\\\"status\\\":\\\"\\\",\\\"nodeLevel\\\":2,\\\"showOptions\\\":false,\\\"showEdit\\\":false},{\\\"childs\\\":[\\\"16\\\",\\\"16\\\"],\\\"outputTable\\\":{\\\"PREVIEW\\\":{\\\"tableId\\\":\\\"62cfa62795b818df8b449e3e\\\",\\\"tableName\\\":\\\"ParentChild_QB_New\\\"},\\\"TRAIN\\\":{\\\"tableId\\\":\\\"62cfa62795b818df8b449e3e\\\",\\\"tableName\\\":\\\"ParentChild_QB_New\\\"}},\\\"parameters\\\":[{\\\"key\\\":\\\"table\\\",\\\"type\\\":\\\"select\\\",\\\"templateOptions\\\":{\\\"label\\\":\\\"Select Table\\\",\\\"options\\\":[{\\\"value\\\":\\\"62cfb4d2deda43bab672450b\\\",\\\"label\\\":\\\"ProdMetrics_QB\\\"},{\\\"value\\\":\\\"62cfb47ddeda43bab6724505\\\",\\\"label\\\":\\\"OneLine_QB\\\"},{\\\"value\\\":\\\"62cfb430f5eb90a12b221fa1\\\",\\\"label\\\":\\\"DIBI_Trajectories\\\"},{\\\"value\\\":\\\"62cfa62795b818df8b449e3e\\\",\\\"label\\\":\\\"ParentChild_QB_New\\\"}],\\\"description\\\":\\\"Select the source table\\\",\\\"required\\\":true,\\\"multiple\\\":false,\\\"placeholder\\\":\\\"\\\",\\\"focus\\\":false,\\\"disabled\\\":false,\\\"_flatOptions\\\":true},\\\"id\\\":\\\"formly_2_select_table_0\\\",\\\"hooks\\\":{},\\\"modelOptions\\\":{},\\\"validation\\\":{\\\"messages\\\":{}},\\\"wrappers\\\":[\\\"form-field\\\"],\\\"_keyPath\\\":{\\\"key\\\":\\\"table\\\",\\\"path\\\":[\\\"table\\\"]}},{\\\"key\\\":\\\"is_scheduled\\\",\\\"type\\\":\\\"checkbox\\\",\\\"templateOptions\\\":{\\\"label\\\":\\\"Is Scheduled?\\\",\\\"placeholder\\\":\\\"\\\",\\\"focus\\\":false,\\\"disabled\\\":false,\\\"indeterminate\\\":true,\\\"hideLabel\\\":true,\\\"formCheck\\\":\\\"custom\\\"},\\\"id\\\":\\\"formly_2_checkbox_is_scheduled_1\\\",\\\"hooks\\\":{},\\\"modelOptions\\\":{},\\\"validation\\\":{\\\"messages\\\":{}},\\\"wrappers\\\":[\\\"form-field\\\"],\\\"_keyPath\\\":{\\\"key\\\":\\\"is_scheduled\\\",\\\"path\\\":[\\\"is_scheduled\\\"]}}],\\\"be_transformation_id\\\":\\\"T0\\\",\\\"be_transformation_name\\\":\\\"Select Source\\\",\\\"fe_transformation_name\\\":\\\"Select Source\\\",\\\"fe_transformation_id\\\":\\\"S0\\\",\\\"infoContent\\\":null,\\\"isMultiJoin\\\":false,\\\"hasIndexDropdown\\\":false,\\\"parents\\\":[],\\\"formData\\\":{\\\"tableName\\\":\\\"ParentChild_QB_New\\\",\\\"tableId\\\":\\\"62cfa62795b818df8b449e3e\\\"},\\\"nodeTables\\\":[],\\\"isSource\\\":true,\\\"nodeKey\\\":\\\"5\\\",\\\"backgroundColor\\\":\\\"#c5ecdf\\\",\\\"color\\\":\\\"#a95963\\\",\\\"status\\\":\\\"success\\\",\\\"nodeLevel\\\":0,\\\"showOptions\\\":false,\\\"showEdit\\\":false},{\\\"childs\\\":[\\\"14\\\",\\\"15\\\"],\\\"outputTable\\\":{\\\"PREVIEW\\\":{\\\"tableId\\\":\\\"62cfb430f5eb90a12b221fa1\\\",\\\"tableName\\\":\\\"DIBI_Trajectories\\\"},\\\"TRAIN\\\":{\\\"tableId\\\":\\\"62cfb430f5eb90a12b221fa1\\\",\\\"tableName\\\":\\\"DIBI_Trajectories\\\"}},\\\"parameters\\\":[{\\\"key\\\":\\\"table\\\",\\\"type\\\":\\\"select\\\",\\\"templateOptions\\\":{\\\"label\\\":\\\"Select Table\\\",\\\"options\\\":[{\\\"value\\\":\\\"62cfb4d2deda43bab672450b\\\",\\\"label\\\":\\\"ProdMetrics_QB\\\"},{\\\"value\\\":\\\"62cfb47ddeda43bab6724505\\\",\\\"label\\\":\\\"OneLine_QB\\\"},{\\\"value\\\":\\\"62cfb430f5eb90a12b221fa1\\\",\\\"label\\\":\\\"DIBI_Trajectories\\\"},{\\\"value\\\":\\\"62cfa62795b818df8b449e3e\\\",\\\"label\\\":\\\"ParentChild_QB_New\\\"}],\\\"description\\\":\\\"Select the source table\\\",\\\"required\\\":true,\\\"multiple\\\":false,\\\"placeholder\\\":\\\"\\\",\\\"focus\\\":false,\\\"disabled\\\":false,\\\"_flatOptions\\\":true},\\\"id\\\":\\\"formly_2_select_table_0\\\",\\\"hooks\\\":{},\\\"modelOptions\\\":{},\\\"validation\\\":{\\\"messages\\\":{}},\\\"wrappers\\\":[\\\"form-field\\\"],\\\"_keyPath\\\":{\\\"key\\\":\\\"table\\\",\\\"path\\\":[\\\"table\\\"]}},{\\\"key\\\":\\\"is_scheduled\\\",\\\"type\\\":\\\"checkbox\\\",\\\"templateOptions\\\":{\\\"label\\\":\\\"Is Scheduled?\\\",\\\"placeholder\\\":\\\"\\\",\\\"focus\\\":false,\\\"disabled\\\":false,\\\"indeterminate\\\":true,\\\"hideLabel\\\":true,\\\"formCheck\\\":\\\"custom\\\"},\\\"id\\\":\\\"formly_2_checkbox_is_scheduled_1\\\",\\\"hooks\\\":{},\\\"modelOptions\\\":{},\\\"validation\\\":{\\\"messages\\\":{}},\\\"wrappers\\\":[\\\"form-field\\\"],\\\"_keyPath\\\":{\\\"key\\\":\\\"is_scheduled\\\",\\\"path\\\":[\\\"is_scheduled\\\"]}}],\\\"be_transformation_id\\\":\\\"T0\\\",\\\"be_transformation_name\\\":\\\"Select Source\\\",\\\"fe_transformation_name\\\":\\\"Select Source\\\",\\\"fe_transformation_id\\\":\\\"S0\\\",\\\"infoContent\\\":null,\\\"isMultiJoin\\\":false,\\\"hasIndexDropdown\\\":false,\\\"parents\\\":[],\\\"formData\\\":{\\\"tableName\\\":\\\"DIBI_Trajectories\\\",\\\"tableId\\\":\\\"62cfb430f5eb90a12b221fa1\\\"},\\\"nodeTables\\\":[],\\\"isSource\\\":true,\\\"nodeKey\\\":\\\"6\\\",\\\"backgroundColor\\\":\\\"#c5ecdf\\\",\\\"color\\\":\\\"#a95963\\\",\\\"status\\\":\\\"success\\\",\\\"nodeLevel\\\":0,\\\"showOptions\\\":false,\\\"showEdit\\\":false},{\\\"childs\\\":[\\\"16\\\",\\\"16\\\",\\\"19\\\",\\\"19\\\"],\\\"outputTable\\\":{\\\"PREVIEW\\\":{\\\"tableName\\\":\\\"Select or Drop Columns_task8_preview\\\",\\\"tableId\\\":\\\"62ceb54a6d9ff46f6204bc85\\\"},\\\"TRAIN\\\":{\\\"tableName\\\":\\\"Select or Drop Columns_task8\\\",\\\"tableId\\\":\\\"62d01f2537c55171d31266e4\\\"}},\\\"parameters\\\":[{\\\"key\\\":\\\"columns\\\",\\\"type\\\":\\\"select\\\",\\\"templateOptions\\\":{\\\"label\\\":\\\"Select Columns\\\",\\\"options\\\":[],\\\"description\\\":\\\"Select the columns to select or to Drop\\\",\\\"required\\\":true,\\\"isStatic\\\":false,\\\"multiple\\\":true}},{\\\"key\\\":\\\"option\\\",\\\"type\\\":\\\"select\\\",\\\"templateOptions\\\":{\\\"label\\\":\\\"Select criteria\\\",\\\"multiple\\\":false,\\\"description\\\":\\\"Select the criteria for dropping nulls\\\",\\\"required\\\":true,\\\"isStatic\\\":true,\\\"options\\\":[{\\\"value\\\":1,\\\"label\\\":\\\"select\\\"},{\\\"value\\\":2,\\\"label\\\":\\\"drop\\\"}]}},{\\\"key\\\":\\\"is_scheduled\\\",\\\"type\\\":\\\"checkbox\\\",\\\"templateOptions\\\":{\\\"label\\\":\\\"Is Scheduled?\\\"}}],\\\"be_transformation_id\\\":\\\"T21\\\",\\\"be_transformation_name\\\":\\\"Select/Drop Columns\\\",\\\"fe_transformation_name\\\":\\\"Select/Drop Columns\\\",\\\"fe_transformation_id\\\":\\\"MS1\\\",\\\"infoContent\\\":null,\\\"isMultiJoin\\\":false,\\\"hasIndexDropdown\\\":false,\\\"parents\\\":[\\\"4\\\"],\\\"formData\\\":{\\\"columns\\\":[\\\"API12\\\",\\\"API14\\\"],\\\"option\\\":1,\\\"is_scheduled\\\":true},\\\"nodeTables\\\":[{\\\"tableName\\\":\\\"Arithmetic Operations_task4_preview\\\",\\\"tableId\\\":\\\"62cd84727ae8a0b1bbffe54e\\\"}],\\\"isSource\\\":false,\\\"nodeKey\\\":\\\"8\\\",\\\"color\\\":\\\"#7ed3ed\\\",\\\"status\\\":\\\"\\\",\\\"nodeLevel\\\":3,\\\"showOptions\\\":false,\\\"showEdit\\\":false},{\\\"childs\\\":[\\\"19\\\",\\\"19\\\"],\\\"outputTable\\\":{\\\"PREVIEW\\\":{\\\"tableName\\\":\\\"Rename column_task15_preview\\\",\\\"tableId\\\":\\\"62ceb4ecf09db8bf2c57879d\\\"},\\\"TRAIN\\\":{\\\"tableName\\\":\\\"Rename column_task15\\\",\\\"tableId\\\":\\\"62d01ecc4f9798bf77751020\\\"}},\\\"parameters\\\":[{\\\"key\\\":\\\"old_new_name_pairs\\\",\\\"type\\\":\\\"repeat\\\",\\\"fieldArray\\\":{\\\"fieldGroupClassName\\\":\\\"form-row\\\",\\\"templateOptions\\\":{\\\"btnText\\\":\\\"Add Row\\\"},\\\"fieldGroup\\\":[{\\\"key\\\":\\\"old_name\\\",\\\"type\\\":\\\"select\\\",\\\"templateOptions\\\":{\\\"label\\\":\\\"Select Column\\\",\\\"options\\\":[],\\\"description\\\":\\\"Select the column for transformation\\\",\\\"required\\\":true,\\\"isStatic\\\":false,\\\"multiple\\\":false}},{\\\"key\\\":\\\"new_name\\\",\\\"type\\\":\\\"input\\\",\\\"templateOptions\\\":{\\\"type\\\":\\\"string\\\",\\\"label\\\":\\\"Enter New Column Name\\\",\\\"placeholder\\\":\\\"Enter string values\\\",\\\"description\\\":\\\"Enter string values\\\",\\\"required\\\":true}}]}},{\\\"key\\\":\\\"is_scheduled\\\",\\\"type\\\":\\\"checkbox\\\",\\\"templateOptions\\\":{\\\"label\\\":\\\"Is Scheduled?\\\"}}],\\\"be_transformation_id\\\":\\\"T34\\\",\\\"be_transformation_name\\\":\\\"Rename columns\\\",\\\"fe_transformation_name\\\":\\\"Rename Columns\\\",\\\"fe_transformation_id\\\":\\\"MS3\\\",\\\"infoContent\\\":null,\\\"isMultiJoin\\\":false,\\\"hasIndexDropdown\\\":false,\\\"parents\\\":[\\\"6\\\"],\\\"formData\\\":{\\\"old_new_name_pairs\\\":[{\\\"old_name\\\":\\\"GovernmentID\\\",\\\"new_name\\\":\\\"API12\\\"}],\\\"is_scheduled\\\":true},\\\"nodeTables\\\":[{\\\"tableId\\\":\\\"62cd6905fb55e4365602b217\\\",\\\"tableName\\\":\\\"DIBI_Trajectories_Midpoints_20200909_UTM14ft_01\\\"}],\\\"isSource\\\":false,\\\"nodeKey\\\":\\\"15\\\",\\\"color\\\":\\\"#adcded\\\",\\\"status\\\":\\\"\\\",\\\"nodeLevel\\\":1,\\\"showOptions\\\":false,\\\"showEdit\\\":false},{\\\"childs\\\":[\\\"18\\\",\\\"18\\\",\\\"20\\\",\\\"18\\\"],\\\"outputTable\\\":{\\\"PREVIEW\\\":{\\\"tableName\\\":\\\"Join_task16_preview\\\",\\\"tableId\\\":\\\"62ceb571dac902963ca49395\\\"},\\\"TRAIN\\\":{\\\"tableName\\\":\\\"Join_task16\\\",\\\"tableId\\\":\\\"62d01f407ca61493d99f5a20\\\"}},\\\"parameters\\\":[{\\\"key\\\":\\\"left_key_columns\\\",\\\"type\\\":\\\"select\\\",\\\"templateOptions\\\":{\\\"label\\\":\\\"Select left key columns\\\",\\\"options\\\":[],\\\"description\\\":\\\"Select the table columns from left table to perform join\\\",\\\"required\\\":true,\\\"isStatic\\\":false,\\\"multiple\\\":true,\\\"parentIndex\\\":0}},{\\\"key\\\":\\\"right_key_columns\\\",\\\"type\\\":\\\"select\\\",\\\"templateOptions\\\":{\\\"label\\\":\\\"Select right key columns\\\",\\\"options\\\":[],\\\"description\\\":\\\"Select the table columns from right table to perform join\\\",\\\"required\\\":true,\\\"isStatic\\\":false,\\\"multiple\\\":true,\\\"parentIndex\\\":1}},{\\\"key\\\":\\\"join_type\\\",\\\"type\\\":\\\"select\\\",\\\"templateOptions\\\":{\\\"label\\\":\\\"Select join type\\\",\\\"multiple\\\":false,\\\"description\\\":\\\"Select the type of join\\\",\\\"required\\\":true,\\\"isStatic\\\":true,\\\"options\\\":[{\\\"value\\\":1,\\\"label\\\":\\\"inner\\\"},{\\\"value\\\":2,\\\"label\\\":\\\"left\\\"},{\\\"value\\\":3,\\\"label\\\":\\\"right\\\"},{\\\"value\\\":4,\\\"label\\\":\\\"outer\\\"},{\\\"value\\\":5,\\\"label\\\":\\\"leftsemi\\\"},{\\\"value\\\":6,\\\"label\\\":\\\"leftanti\\\"}]}},{\\\"key\\\":\\\"is_scheduled\\\",\\\"type\\\":\\\"checkbox\\\",\\\"templateOptions\\\":{\\\"label\\\":\\\"Is Scheduled?\\\"}}],\\\"be_transformation_id\\\":\\\"T12\\\",\\\"be_transformation_name\\\":\\\"Join\\\",\\\"fe_transformation_name\\\":\\\"Join\\\",\\\"fe_transformation_id\\\":\\\"JN1\\\",\\\"infoContent\\\":\\\"<p>Joins two dataframes. left_key_params are the columns on which left table is to be joined and right_key_params are the columns on which right table is to be joined. join_type is the type of join that is to be performed on the two dataframes.</p>\\\",\\\"isMultiJoin\\\":false,\\\"hasIndexDropdown\\\":true,\\\"parents\\\":[\\\"5\\\",\\\"8\\\"],\\\"formData\\\":{\\\"left_key_columns\\\":[\\\"API12\\\"],\\\"right_key_columns\\\":[\\\"API12\\\"],\\\"join_type\\\":1,\\\"is_scheduled\\\":true},\\\"nodeTables\\\":[{\\\"tableId\\\":\\\"62cd6711fb55e4365602b1fd\\\",\\\"tableName\\\":\\\"ParentChild_QB_ARKLATEX_01\\\"},{\\\"tableName\\\":\\\"Select or Drop Columns_task8_preview\\\",\\\"tableId\\\":\\\"62ce712835648ed02e303673\\\"}],\\\"isSource\\\":false,\\\"nodeKey\\\":\\\"16\\\",\\\"color\\\":\\\"#a27ea8\\\",\\\"status\\\":\\\"\\\",\\\"nodeLevel\\\":4,\\\"showOptions\\\":false,\\\"showEdit\\\":false},{\\\"childs\\\":[\\\"26\\\",\\\"27\\\"],\\\"outputTable\\\":{\\\"PREVIEW\\\":{\\\"tableName\\\":\\\"Select or Drop Columns_task18_preview\\\",\\\"tableId\\\":\\\"62ceb6f26d9ff46f6204bc90\\\"},\\\"TRAIN\\\":{\\\"tableName\\\":\\\"Select or Drop Columns_task18\\\",\\\"tableId\\\":\\\"62d01f5a0448823fad903f0c\\\"}},\\\"parameters\\\":[{\\\"key\\\":\\\"columns\\\",\\\"type\\\":\\\"select\\\",\\\"templateOptions\\\":{\\\"label\\\":\\\"Select Columns\\\",\\\"options\\\":[],\\\"description\\\":\\\"Select the columns to select or to Drop\\\",\\\"required\\\":true,\\\"isStatic\\\":false,\\\"multiple\\\":true}},{\\\"key\\\":\\\"option\\\",\\\"type\\\":\\\"select\\\",\\\"templateOptions\\\":{\\\"label\\\":\\\"Select criteria\\\",\\\"multiple\\\":false,\\\"description\\\":\\\"Select the criteria for dropping nulls\\\",\\\"required\\\":true,\\\"isStatic\\\":true,\\\"options\\\":[{\\\"value\\\":1,\\\"label\\\":\\\"select\\\"},{\\\"value\\\":2,\\\"label\\\":\\\"drop\\\"}]}},{\\\"key\\\":\\\"is_scheduled\\\",\\\"type\\\":\\\"checkbox\\\",\\\"templateOptions\\\":{\\\"label\\\":\\\"Is Scheduled?\\\"}}],\\\"be_transformation_id\\\":\\\"T21\\\",\\\"be_transformation_name\\\":\\\"Select/Drop Columns\\\",\\\"fe_transformation_name\\\":\\\"Select/Drop Cols\\\",\\\"fe_transformation_id\\\":\\\"DC9\\\",\\\"infoContent\\\":null,\\\"isMultiJoin\\\":false,\\\"hasIndexDropdown\\\":false,\\\"parents\\\":[\\\"16\\\"],\\\"formData\\\":{\\\"columns\\\":[\\\"API12\\\",\\\"API12_dup_1\\\"],\\\"option\\\":2,\\\"is_scheduled\\\":true},\\\"nodeTables\\\":[{\\\"tableName\\\":\\\"Join_task16_preview\\\",\\\"tableId\\\":\\\"62cedf55e10358bd2cde9ed7\\\"}],\\\"isSource\\\":false,\\\"nodeKey\\\":\\\"18\\\",\\\"color\\\":\\\"#8796c0\\\",\\\"status\\\":\\\"\\\",\\\"nodeLevel\\\":5,\\\"showOptions\\\":false,\\\"showEdit\\\":false},{\\\"childs\\\":[\\\"20\\\",\\\"20\\\",\\\"20\\\",\\\"20\\\"],\\\"outputTable\\\":{\\\"PREVIEW\\\":{\\\"tableName\\\":\\\"Join_task19_preview\\\",\\\"tableId\\\":\\\"62cebb855e839b2daf5d7770\\\"},\\\"TRAIN\\\":{\\\"tableName\\\":\\\"Join_task19\\\",\\\"tableId\\\":\\\"62d01f4537c55171d31266e6\\\"}},\\\"parameters\\\":[{\\\"key\\\":\\\"left_key_columns\\\",\\\"type\\\":\\\"select\\\",\\\"templateOptions\\\":{\\\"label\\\":\\\"Select left key columns\\\",\\\"options\\\":[],\\\"description\\\":\\\"Select the table columns from left table to perform join\\\",\\\"required\\\":true,\\\"isStatic\\\":false,\\\"multiple\\\":true,\\\"parentIndex\\\":0}},{\\\"key\\\":\\\"right_key_columns\\\",\\\"type\\\":\\\"select\\\",\\\"templateOptions\\\":{\\\"label\\\":\\\"Select right key columns\\\",\\\"options\\\":[],\\\"description\\\":\\\"Select the table columns from right table to perform join\\\",\\\"required\\\":true,\\\"isStatic\\\":false,\\\"multiple\\\":true,\\\"parentIndex\\\":1}},{\\\"key\\\":\\\"join_type\\\",\\\"type\\\":\\\"select\\\",\\\"templateOptions\\\":{\\\"label\\\":\\\"Select join type\\\",\\\"multiple\\\":false,\\\"description\\\":\\\"Select the type of join\\\",\\\"required\\\":true,\\\"isStatic\\\":true,\\\"options\\\":[{\\\"value\\\":1,\\\"label\\\":\\\"inner\\\"},{\\\"value\\\":2,\\\"label\\\":\\\"left\\\"},{\\\"value\\\":3,\\\"label\\\":\\\"right\\\"},{\\\"value\\\":4,\\\"label\\\":\\\"outer\\\"},{\\\"value\\\":5,\\\"label\\\":\\\"leftsemi\\\"},{\\\"value\\\":6,\\\"label\\\":\\\"leftanti\\\"}]}},{\\\"key\\\":\\\"is_scheduled\\\",\\\"type\\\":\\\"checkbox\\\",\\\"templateOptions\\\":{\\\"label\\\":\\\"Is Scheduled?\\\"}}],\\\"be_transformation_id\\\":\\\"T12\\\",\\\"be_transformation_name\\\":\\\"Join\\\",\\\"fe_transformation_name\\\":\\\"Join\\\",\\\"fe_transformation_id\\\":\\\"JN1\\\",\\\"infoContent\\\":\\\"<p>Joins two dataframes. left_key_params are the columns on which left table is to be joined and right_key_params are the columns on which right table is to be joined. join_type is the type of join that is to be performed on the two dataframes.</p>\\\",\\\"isMultiJoin\\\":false,\\\"hasIndexDropdown\\\":true,\\\"parents\\\":[\\\"8\\\",\\\"15\\\"],\\\"formData\\\":{\\\"left_key_columns\\\":[\\\"API12\\\"],\\\"right_key_columns\\\":[\\\"API12\\\"],\\\"join_type\\\":1,\\\"is_scheduled\\\":true},\\\"nodeTables\\\":[{\\\"tableName\\\":\\\"Select or Drop Columns_task8_preview\\\",\\\"tableId\\\":\\\"62ceb54a6d9ff46f6204bc85\\\"},{\\\"tableName\\\":\\\"Rename column_task15_preview\\\",\\\"tableId\\\":\\\"62ceb4ecf09db8bf2c57879d\\\"}],\\\"isSource\\\":false,\\\"nodeKey\\\":\\\"19\\\",\\\"color\\\":\\\"#a27ea8\\\",\\\"status\\\":\\\"\\\",\\\"nodeLevel\\\":2,\\\"showOptions\\\":false,\\\"showEdit\\\":false},{\\\"childs\\\":[\\\"26\\\",\\\"27\\\",\\\"28\\\"],\\\"outputTable\\\":{\\\"PREVIEW\\\":{\\\"tableName\\\":\\\"Select or Drop Columns_task20_preview\\\",\\\"tableId\\\":\\\"62cebcb85e839b2daf5d7772\\\"},\\\"TRAIN\\\":{\\\"tableName\\\":\\\"Select or Drop Columns_task20\\\",\\\"tableId\\\":\\\"62d01f6037c55171d31266e7\\\"}},\\\"parameters\\\":[{\\\"key\\\":\\\"columns\\\",\\\"type\\\":\\\"select\\\",\\\"templateOptions\\\":{\\\"label\\\":\\\"Select Columns\\\",\\\"options\\\":[],\\\"description\\\":\\\"Select the columns to select or to Drop\\\",\\\"required\\\":true,\\\"isStatic\\\":false,\\\"multiple\\\":true}},{\\\"key\\\":\\\"option\\\",\\\"type\\\":\\\"select\\\",\\\"templateOptions\\\":{\\\"label\\\":\\\"Select criteria\\\",\\\"multiple\\\":false,\\\"description\\\":\\\"Select the criteria for dropping nulls\\\",\\\"required\\\":true,\\\"isStatic\\\":true,\\\"options\\\":[{\\\"value\\\":1,\\\"label\\\":\\\"select\\\"},{\\\"value\\\":2,\\\"label\\\":\\\"drop\\\"}]}},{\\\"key\\\":\\\"is_scheduled\\\",\\\"type\\\":\\\"checkbox\\\",\\\"templateOptions\\\":{\\\"label\\\":\\\"Is Scheduled?\\\"}}],\\\"be_transformation_id\\\":\\\"T21\\\",\\\"be_transformation_name\\\":\\\"Select/Drop Columns\\\",\\\"fe_transformation_name\\\":\\\"Select/Drop Cols\\\",\\\"fe_transformation_id\\\":\\\"DC9\\\",\\\"infoContent\\\":null,\\\"isMultiJoin\\\":false,\\\"hasIndexDropdown\\\":false,\\\"parents\\\":[\\\"19\\\"],\\\"formData\\\":{\\\"columns\\\":[\\\"API12\\\"],\\\"option\\\":2,\\\"is_scheduled\\\":true},\\\"nodeTables\\\":[{\\\"tableName\\\":\\\"Join_task19_preview\\\",\\\"tableId\\\":\\\"62cebb855e839b2daf5d7770\\\"}],\\\"isSource\\\":false,\\\"nodeKey\\\":\\\"20\\\",\\\"color\\\":\\\"#8796c0\\\",\\\"status\\\":\\\"\\\",\\\"nodeLevel\\\":3,\\\"showOptions\\\":false,\\\"showEdit\\\":false},{\\\"childs\\\":[\\\"27\\\",\\\"27\\\",\\\"28\\\",\\\"30\\\"],\\\"outputTable\\\":{\\\"PREVIEW\\\":{\\\"tableName\\\":\\\"Drop Duplicates_task26_preview\\\",\\\"tableId\\\":\\\"62ceca907fcba9603ce9ecfb\\\"},\\\"TRAIN\\\":{\\\"tableName\\\":\\\"Drop Duplicates_task26\\\",\\\"tableId\\\":\\\"62d01f4537c55171d31266e5\\\"}},\\\"parameters\\\":[{\\\"key\\\":\\\"columns\\\",\\\"type\\\":\\\"select\\\",\\\"templateOptions\\\":{\\\"label\\\":\\\"Select Columns\\\",\\\"options\\\":[],\\\"description\\\":\\\"Select the columns containing duplicate values or None to select all columns\\\",\\\"required\\\":false,\\\"isStatic\\\":false,\\\"multiple\\\":true}},{\\\"key\\\":\\\"is_scheduled\\\",\\\"type\\\":\\\"checkbox\\\",\\\"templateOptions\\\":{\\\"label\\\":\\\"Is Scheduled?\\\"}}],\\\"be_transformation_id\\\":\\\"T2\\\",\\\"be_transformation_name\\\":\\\"Drop duplicates\\\",\\\"fe_transformation_name\\\":\\\"Drop Duplicates\\\",\\\"fe_transformation_id\\\":\\\"DC2\\\",\\\"infoContent\\\":null,\\\"isMultiJoin\\\":false,\\\"hasIndexDropdown\\\":false,\\\"parents\\\":[\\\"31\\\"],\\\"formData\\\":{\\\"columns\\\":[\\\"API14\\\"],\\\"is_scheduled\\\":true},\\\"nodeTables\\\":[{\\\"tableName\\\":\\\"Select or Drop Columns_task31_preview\\\",\\\"tableId\\\":\\\"62cedf3519190536b7fb888e\\\"}],\\\"isSource\\\":false,\\\"nodeKey\\\":\\\"26\\\",\\\"color\\\":\\\"#7aa3e5\\\",\\\"status\\\":\\\"\\\",\\\"nodeLevel\\\":4,\\\"showOptions\\\":false,\\\"showEdit\\\":false},{\\\"childs\\\":[\\\"34\\\",\\\"34\\\"],\\\"outputTable\\\":{\\\"PREVIEW\\\":{\\\"tableName\\\":\\\"Multiple Dataframe Join_task27_preview\\\",\\\"tableId\\\":\\\"62ceccb6c935188c17a34eab\\\"},\\\"TRAIN\\\":{\\\"tableName\\\":\\\"Multiple Dataframe Join_task27\\\",\\\"tableId\\\":\\\"62d01f7537c55171d31266e8\\\"}},\\\"parameters\\\":[{\\\"key\\\":\\\"join_key_list\\\",\\\"type\\\":\\\"repeat\\\",\\\"fieldArray\\\":{\\\"fieldGroupClassName\\\":\\\"form-row\\\",\\\"templateOptions\\\":{\\\"showAdd\\\":false,\\\"showRemove\\\":false},\\\"fieldGroup\\\":[{\\\"key\\\":\\\"keys\\\",\\\"type\\\":\\\"select\\\",\\\"templateOptions\\\":{\\\"label\\\":\\\"Select join columns between \\\",\\\"options\\\":[],\\\"description\\\":\\\"Select columns on which the join is to be applied\\\",\\\"required\\\":true,\\\"isStatic\\\":false,\\\"multiple\\\":true}},{\\\"key\\\":\\\"join_type\\\",\\\"type\\\":\\\"select\\\",\\\"templateOptions\\\":{\\\"label\\\":\\\"Select join type\\\",\\\"multiple\\\":false,\\\"description\\\":\\\"Select the type of join\\\",\\\"required\\\":true,\\\"isStatic\\\":true,\\\"options\\\":[{\\\"value\\\":1,\\\"label\\\":\\\"inner\\\"},{\\\"value\\\":2,\\\"label\\\":\\\"left\\\"},{\\\"value\\\":3,\\\"label\\\":\\\"right\\\"},{\\\"value\\\":4,\\\"label\\\":\\\"outer\\\"},{\\\"value\\\":5,\\\"label\\\":\\\"leftsemi\\\"},{\\\"value\\\":6,\\\"label\\\":\\\"leftanti\\\"},{\\\"value\\\":7,\\\"label\\\":\\\"cross\\\"}]}}]},\\\"templateOptions\\\":{\\\"dependOn\\\":\\\"parent\\\"}},{\\\"key\\\":\\\"is_scheduled\\\",\\\"type\\\":\\\"checkbox\\\",\\\"templateOptions\\\":{\\\"label\\\":\\\"Is Scheduled?\\\"}}],\\\"be_transformation_id\\\":\\\"T55\\\",\\\"be_transformation_name\\\":\\\"Multiple Table Join\\\",\\\"fe_transformation_name\\\":\\\"Multiple Table Join\\\",\\\"fe_transformation_id\\\":\\\"JN2\\\",\\\"infoContent\\\":\\\"<p>Joins multiple dataframes in a sequential fashion i.e. If there are 3 dataframes that are to be joined, two join operations will take place. DF1 JOIN DF2 and result of first operation JOIN DF3. User can customise the type of join that will take place in each step as well as the columns on which this join will happen.</p>\\\",\\\"isMultiJoin\\\":true,\\\"hasIndexDropdown\\\":true,\\\"parents\\\":[\\\"26\\\",\\\"18\\\"],\\\"formData\\\":{\\\"join_key_list\\\":[{\\\"keys\\\":[\\\"API14\\\"],\\\"join_type\\\":1}],\\\"is_scheduled\\\":true},\\\"nodeTables\\\":[{\\\"tableName\\\":\\\"Select or Drop Columns_task18_preview\\\",\\\"tableId\\\":\\\"62ced698e10358bd2cde9ead\\\"},{\\\"tableName\\\":\\\"Drop Duplicates_task26_preview\\\",\\\"tableId\\\":\\\"62ced812e10358bd2cde9eb0\\\"}],\\\"isSource\\\":false,\\\"nodeKey\\\":\\\"27\\\",\\\"color\\\":\\\"#aae3f5\\\",\\\"showOptions\\\":false,\\\"showEdit\\\":false,\\\"status\\\":\\\"\\\",\\\"nodeLevel\\\":5},{\\\"childs\\\":[\\\"35\\\"],\\\"outputTable\\\":{\\\"PREVIEW\\\":{\\\"tableName\\\":\\\"Multiple Dataframe Join_task28_preview\\\",\\\"tableId\\\":\\\"62cedb44d11bedd36ad73fcd\\\"},\\\"TRAIN\\\":{\\\"tableName\\\":\\\"Multiple Dataframe Join_task28\\\",\\\"tableId\\\":\\\"62d01f794f9798bf77751023\\\"}},\\\"parameters\\\":[{\\\"key\\\":\\\"join_key_list\\\",\\\"type\\\":\\\"repeat\\\",\\\"fieldArray\\\":{\\\"fieldGroupClassName\\\":\\\"form-row\\\",\\\"templateOptions\\\":{\\\"showAdd\\\":false,\\\"showRemove\\\":false},\\\"fieldGroup\\\":[{\\\"key\\\":\\\"keys\\\",\\\"type\\\":\\\"select\\\",\\\"templateOptions\\\":{\\\"label\\\":\\\"Select join columns between \\\",\\\"options\\\":[],\\\"description\\\":\\\"Select columns on which the join is to be applied\\\",\\\"required\\\":true,\\\"isStatic\\\":false,\\\"multiple\\\":true}},{\\\"key\\\":\\\"join_type\\\",\\\"type\\\":\\\"select\\\",\\\"templateOptions\\\":{\\\"label\\\":\\\"Select join type\\\",\\\"multiple\\\":false,\\\"description\\\":\\\"Select the type of join\\\",\\\"required\\\":true,\\\"isStatic\\\":true,\\\"options\\\":[{\\\"value\\\":1,\\\"label\\\":\\\"inner\\\"},{\\\"value\\\":2,\\\"label\\\":\\\"left\\\"},{\\\"value\\\":3,\\\"label\\\":\\\"right\\\"},{\\\"value\\\":4,\\\"label\\\":\\\"outer\\\"},{\\\"value\\\":5,\\\"label\\\":\\\"leftsemi\\\"},{\\\"value\\\":6,\\\"label\\\":\\\"leftanti\\\"},{\\\"value\\\":7,\\\"label\\\":\\\"cross\\\"}]}}]},\\\"templateOptions\\\":{\\\"dependOn\\\":\\\"parent\\\"}},{\\\"key\\\":\\\"is_scheduled\\\",\\\"type\\\":\\\"checkbox\\\",\\\"templateOptions\\\":{\\\"label\\\":\\\"Is Scheduled?\\\"}}],\\\"be_transformation_id\\\":\\\"T55\\\",\\\"be_transformation_name\\\":\\\"Multiple Table Join\\\",\\\"fe_transformation_name\\\":\\\"Multiple Table Join\\\",\\\"fe_transformation_id\\\":\\\"JN2\\\",\\\"infoContent\\\":\\\"<p>Joins multiple dataframes in a sequential fashion i.e. If there are 3 dataframes that are to be joined, two join operations will take place. DF1 JOIN DF2 and result of first operation JOIN DF3. User can customise the type of join that will take place in each step as well as the columns on which this join will happen.</p>\\\",\\\"isMultiJoin\\\":true,\\\"hasIndexDropdown\\\":true,\\\"parents\\\":[\\\"26\\\",\\\"20\\\"],\\\"formData\\\":{\\\"join_key_list\\\":[{\\\"keys\\\":[\\\"API14\\\"],\\\"join_type\\\":1}],\\\"is_scheduled\\\":true},\\\"nodeTables\\\":[{\\\"tableName\\\":\\\"Select or Drop Columns_task20_preview\\\",\\\"tableId\\\":\\\"62ced994d11bedd36ad73fc9\\\"},{\\\"tableName\\\":\\\"Drop Duplicates_task26_preview\\\",\\\"tableId\\\":\\\"62ced812e10358bd2cde9eb0\\\"}],\\\"isSource\\\":false,\\\"nodeKey\\\":\\\"28\\\",\\\"color\\\":\\\"#aae3f5\\\",\\\"status\\\":\\\"\\\",\\\"nodeLevel\\\":5,\\\"showEdit\\\":false,\\\"showOptions\\\":false},{\\\"childs\\\":[\\\"30\\\"],\\\"outputTable\\\":{\\\"PREVIEW\\\":{\\\"tableId\\\":\\\"62cfb4d2deda43bab672450b\\\",\\\"tableName\\\":\\\"ProdMetrics_QB\\\"},\\\"TRAIN\\\":{\\\"tableId\\\":\\\"62cfb4d2deda43bab672450b\\\",\\\"tableName\\\":\\\"ProdMetrics_QB\\\"}},\\\"parameters\\\":[{\\\"key\\\":\\\"table\\\",\\\"type\\\":\\\"select\\\",\\\"templateOptions\\\":{\\\"label\\\":\\\"Select Table\\\",\\\"options\\\":[{\\\"value\\\":\\\"62cfb4d2deda43bab672450b\\\",\\\"label\\\":\\\"ProdMetrics_QB\\\"},{\\\"value\\\":\\\"62cfb47ddeda43bab6724505\\\",\\\"label\\\":\\\"OneLine_QB\\\"},{\\\"value\\\":\\\"62cfb430f5eb90a12b221fa1\\\",\\\"label\\\":\\\"DIBI_Trajectories\\\"},{\\\"value\\\":\\\"62cfa62795b818df8b449e3e\\\",\\\"label\\\":\\\"ParentChild_QB_New\\\"}],\\\"description\\\":\\\"Select the source table\\\",\\\"required\\\":true,\\\"multiple\\\":false,\\\"placeholder\\\":\\\"\\\",\\\"focus\\\":false,\\\"disabled\\\":false,\\\"_flatOptions\\\":true},\\\"id\\\":\\\"formly_16_select_table_0\\\",\\\"hooks\\\":{},\\\"modelOptions\\\":{},\\\"validation\\\":{\\\"messages\\\":{}},\\\"wrappers\\\":[\\\"form-field\\\"],\\\"_keyPath\\\":{\\\"key\\\":\\\"table\\\",\\\"path\\\":[\\\"table\\\"]}},{\\\"key\\\":\\\"is_scheduled\\\",\\\"type\\\":\\\"checkbox\\\",\\\"templateOptions\\\":{\\\"label\\\":\\\"Is Scheduled?\\\",\\\"placeholder\\\":\\\"\\\",\\\"focus\\\":false,\\\"disabled\\\":false,\\\"indeterminate\\\":true,\\\"hideLabel\\\":true,\\\"formCheck\\\":\\\"custom\\\"},\\\"id\\\":\\\"formly_16_checkbox_is_scheduled_1\\\",\\\"hooks\\\":{},\\\"modelOptions\\\":{},\\\"validation\\\":{\\\"messages\\\":{}},\\\"wrappers\\\":[\\\"form-field\\\"],\\\"_keyPath\\\":{\\\"key\\\":\\\"is_scheduled\\\",\\\"path\\\":[\\\"is_scheduled\\\"]}}],\\\"be_transformation_id\\\":\\\"T0\\\",\\\"be_transformation_name\\\":\\\"Select Source\\\",\\\"fe_transformation_name\\\":\\\"Select Source\\\",\\\"fe_transformation_id\\\":\\\"S0\\\",\\\"infoContent\\\":null,\\\"isMultiJoin\\\":false,\\\"hasIndexDropdown\\\":false,\\\"parents\\\":[],\\\"formData\\\":{\\\"tableName\\\":\\\"ProdMetrics_QB\\\",\\\"tableId\\\":\\\"62cfb4d2deda43bab672450b\\\"},\\\"nodeTables\\\":[],\\\"isSource\\\":true,\\\"nodeKey\\\":\\\"29\\\",\\\"backgroundColor\\\":\\\"#c5ecdf\\\",\\\"color\\\":\\\"#a95963\\\",\\\"status\\\":\\\"success\\\",\\\"nodeLevel\\\":0,\\\"showEdit\\\":false,\\\"showOptions\\\":false},{\\\"childs\\\":[\\\"36\\\"],\\\"outputTable\\\":{\\\"PREVIEW\\\":{\\\"tableName\\\":\\\"Multiple Dataframe Join_task30_preview\\\",\\\"tableId\\\":\\\"62ceddae045197fc31d632a2\\\"},\\\"TRAIN\\\":{\\\"tableName\\\":\\\"Multiple Dataframe Join_task30\\\",\\\"tableId\\\":\\\"62d01f5e4f9798bf77751021\\\"}},\\\"parameters\\\":[{\\\"key\\\":\\\"join_key_list\\\",\\\"type\\\":\\\"repeat\\\",\\\"fieldArray\\\":{\\\"fieldGroupClassName\\\":\\\"form-row\\\",\\\"templateOptions\\\":{\\\"showAdd\\\":false,\\\"showRemove\\\":false},\\\"fieldGroup\\\":[{\\\"key\\\":\\\"keys\\\",\\\"type\\\":\\\"select\\\",\\\"templateOptions\\\":{\\\"label\\\":\\\"Select join columns between \\\",\\\"options\\\":[],\\\"description\\\":\\\"Select columns on which the join is to be applied\\\",\\\"required\\\":true,\\\"isStatic\\\":false,\\\"multiple\\\":true}},{\\\"key\\\":\\\"join_type\\\",\\\"type\\\":\\\"select\\\",\\\"templateOptions\\\":{\\\"label\\\":\\\"Select join type\\\",\\\"multiple\\\":false,\\\"description\\\":\\\"Select the type of join\\\",\\\"required\\\":true,\\\"isStatic\\\":true,\\\"options\\\":[{\\\"value\\\":1,\\\"label\\\":\\\"inner\\\"},{\\\"value\\\":2,\\\"label\\\":\\\"left\\\"},{\\\"value\\\":3,\\\"label\\\":\\\"right\\\"},{\\\"value\\\":4,\\\"label\\\":\\\"outer\\\"},{\\\"value\\\":5,\\\"label\\\":\\\"leftsemi\\\"},{\\\"value\\\":6,\\\"label\\\":\\\"leftanti\\\"},{\\\"value\\\":7,\\\"label\\\":\\\"cross\\\"}]}}]},\\\"templateOptions\\\":{\\\"dependOn\\\":\\\"parent\\\"}},{\\\"key\\\":\\\"is_scheduled\\\",\\\"type\\\":\\\"checkbox\\\",\\\"templateOptions\\\":{\\\"label\\\":\\\"Is Scheduled?\\\"}}],\\\"be_transformation_id\\\":\\\"T55\\\",\\\"be_transformation_name\\\":\\\"Multiple Table Join\\\",\\\"fe_transformation_name\\\":\\\"Multiple Table Join\\\",\\\"fe_transformation_id\\\":\\\"JN2\\\",\\\"infoContent\\\":\\\"<p>Joins multiple dataframes in a sequential fashion i.e. If there are 3 dataframes that are to be joined, two join operations will take place. DF1 JOIN DF2 and result of first operation JOIN DF3. User can customise the type of join that will take place in each step as well as the columns on which this join will happen.</p>\\\",\\\"isMultiJoin\\\":true,\\\"hasIndexDropdown\\\":true,\\\"parents\\\":[\\\"26\\\",\\\"29\\\"],\\\"formData\\\":{\\\"join_key_list\\\":[{\\\"keys\\\":[\\\"API14\\\"],\\\"join_type\\\":1}],\\\"is_scheduled\\\":true},\\\"nodeTables\\\":[{\\\"tableName\\\":\\\"Drop Duplicates_task26_preview\\\",\\\"tableId\\\":\\\"62ced812e10358bd2cde9eb0\\\"},{\\\"tableId\\\":\\\"62cedc18e10358bd2cde9ed0\\\",\\\"tableName\\\":\\\"ProdMetrics_QB_ARKLATEX\\\"}],\\\"isSource\\\":false,\\\"nodeKey\\\":\\\"30\\\",\\\"color\\\":\\\"#aae3f5\\\",\\\"status\\\":\\\"\\\",\\\"nodeLevel\\\":1,\\\"showEdit\\\":false,\\\"showOptions\\\":false},{\\\"childs\\\":[\\\"26\\\"],\\\"outputTable\\\":{\\\"PREVIEW\\\":{\\\"tableName\\\":\\\"Select or Drop Columns_task31_preview\\\",\\\"tableId\\\":\\\"62cedf3519190536b7fb888e\\\"},\\\"TRAIN\\\":{\\\"tableName\\\":\\\"Select or Drop Columns_task31\\\",\\\"tableId\\\":\\\"62d01f287ca61493d99f5a1f\\\"}},\\\"parameters\\\":[{\\\"key\\\":\\\"columns\\\",\\\"type\\\":\\\"select\\\",\\\"templateOptions\\\":{\\\"label\\\":\\\"Select Columns\\\",\\\"options\\\":[],\\\"description\\\":\\\"Select the columns to select or to Drop\\\",\\\"required\\\":true,\\\"isStatic\\\":false,\\\"multiple\\\":true}},{\\\"key\\\":\\\"option\\\",\\\"type\\\":\\\"select\\\",\\\"templateOptions\\\":{\\\"label\\\":\\\"Select criteria\\\",\\\"multiple\\\":false,\\\"description\\\":\\\"Select the criteria for dropping nulls\\\",\\\"required\\\":true,\\\"isStatic\\\":true,\\\"options\\\":[{\\\"value\\\":1,\\\"label\\\":\\\"select\\\"},{\\\"value\\\":2,\\\"label\\\":\\\"drop\\\"}]}},{\\\"key\\\":\\\"is_scheduled\\\",\\\"type\\\":\\\"checkbox\\\",\\\"templateOptions\\\":{\\\"label\\\":\\\"Is Scheduled?\\\"}}],\\\"be_transformation_id\\\":\\\"T21\\\",\\\"be_transformation_name\\\":\\\"Select/Drop Columns\\\",\\\"fe_transformation_name\\\":\\\"Select/Drop Cols\\\",\\\"fe_transformation_id\\\":\\\"DC9\\\",\\\"infoContent\\\":null,\\\"isMultiJoin\\\":false,\\\"hasIndexDropdown\\\":false,\\\"parents\\\":[\\\"4\\\"],\\\"formData\\\":{\\\"columns\\\":[\\\"API14\\\"],\\\"option\\\":1,\\\"is_scheduled\\\":true},\\\"nodeTables\\\":[{\\\"tableName\\\":\\\"Arithmetic Operations_task4_preview\\\",\\\"tableId\\\":\\\"62ceb524dac902963ca49393\\\"}],\\\"isSource\\\":false,\\\"nodeKey\\\":\\\"31\\\",\\\"color\\\":\\\"#8796c0\\\",\\\"status\\\":\\\"\\\",\\\"nodeLevel\\\":3,\\\"showOptions\\\":false,\\\"showEdit\\\":false},{\\\"childs\\\":[\\\"38\\\"],\\\"outputTable\\\":{\\\"PREVIEW\\\":{\\\"tableName\\\":\\\"Select or Drop Columns_task33_preview\\\",\\\"tableId\\\":\\\"62cef2659063c0d0dbcc0331\\\"},\\\"TRAIN\\\":{\\\"tableName\\\":\\\"Select or Drop Columns_task33\\\",\\\"tableId\\\":\\\"62d01f1f37c55171d31266e3\\\"}},\\\"parameters\\\":[{\\\"key\\\":\\\"columns\\\",\\\"type\\\":\\\"select\\\",\\\"templateOptions\\\":{\\\"label\\\":\\\"Select Columns\\\",\\\"options\\\":[],\\\"description\\\":\\\"Select the columns to select or to Drop\\\",\\\"required\\\":true,\\\"isStatic\\\":false,\\\"multiple\\\":true}},{\\\"key\\\":\\\"option\\\",\\\"type\\\":\\\"select\\\",\\\"templateOptions\\\":{\\\"label\\\":\\\"Select criteria\\\",\\\"multiple\\\":false,\\\"description\\\":\\\"Select the criteria for dropping nulls\\\",\\\"required\\\":true,\\\"isStatic\\\":true,\\\"options\\\":[{\\\"value\\\":1,\\\"label\\\":\\\"select\\\"},{\\\"value\\\":2,\\\"label\\\":\\\"drop\\\"}]}},{\\\"key\\\":\\\"is_scheduled\\\",\\\"type\\\":\\\"checkbox\\\",\\\"templateOptions\\\":{\\\"label\\\":\\\"Is Scheduled?\\\"}}],\\\"be_transformation_id\\\":\\\"T21\\\",\\\"be_transformation_name\\\":\\\"Select/Drop Columns\\\",\\\"fe_transformation_name\\\":\\\"Select/Drop Cols\\\",\\\"fe_transformation_id\\\":\\\"DC9\\\",\\\"infoContent\\\":null,\\\"isMultiJoin\\\":false,\\\"hasIndexDropdown\\\":false,\\\"parents\\\":[\\\"4\\\"],\\\"formData\\\":{\\\"columns\\\":[\\\"API10\\\",\\\"API12\\\",\\\"API14\\\",\\\"CompletionDate\\\",\\\"Fluid_BBLPerFT\\\",\\\"LateralLength_FT\\\",\\\"LatitudeBHNAD27\\\",\\\"LongitudeBHNAD27\\\",\\\"OperatorGold\\\",\\\"Proppant_LBSPerFT\\\",\\\"ReservoirGold\\\",\\\"TVD_FT\\\"],\\\"option\\\":1,\\\"is_scheduled\\\":true},\\\"nodeTables\\\":[{\\\"tableName\\\":\\\"Arithmetic Operations_task4_preview\\\",\\\"tableId\\\":\\\"62ceb524dac902963ca49393\\\"}],\\\"isSource\\\":false,\\\"nodeKey\\\":\\\"33\\\",\\\"color\\\":\\\"#8796c0\\\",\\\"status\\\":\\\"\\\",\\\"nodeLevel\\\":3,\\\"showEdit\\\":false,\\\"showOptions\\\":false},{\\\"childs\\\":[\\\"38\\\"],\\\"outputTable\\\":{\\\"PREVIEW\\\":{\\\"tableName\\\":\\\"Select or Drop Columns_task34_preview\\\",\\\"tableId\\\":\\\"62cef5fb2f0dac51a75874fe\\\"},\\\"TRAIN\\\":{\\\"tableName\\\":\\\"Select or Drop Columns_task34\\\",\\\"tableId\\\":\\\"62d01f8f7ca61493d99f5a21\\\"}},\\\"parameters\\\":[{\\\"key\\\":\\\"columns\\\",\\\"type\\\":\\\"select\\\",\\\"templateOptions\\\":{\\\"label\\\":\\\"Select Columns\\\",\\\"options\\\":[],\\\"description\\\":\\\"Select the columns to select or to Drop\\\",\\\"required\\\":true,\\\"isStatic\\\":false,\\\"multiple\\\":true}},{\\\"key\\\":\\\"option\\\",\\\"type\\\":\\\"select\\\",\\\"templateOptions\\\":{\\\"label\\\":\\\"Select criteria\\\",\\\"multiple\\\":false,\\\"description\\\":\\\"Select the criteria for dropping nulls\\\",\\\"required\\\":true,\\\"isStatic\\\":true,\\\"options\\\":[{\\\"value\\\":1,\\\"label\\\":\\\"select\\\"},{\\\"value\\\":2,\\\"label\\\":\\\"drop\\\"}]}},{\\\"key\\\":\\\"is_scheduled\\\",\\\"type\\\":\\\"checkbox\\\",\\\"templateOptions\\\":{\\\"label\\\":\\\"Is Scheduled?\\\"}}],\\\"be_transformation_id\\\":\\\"T21\\\",\\\"be_transformation_name\\\":\\\"Select/Drop Columns\\\",\\\"fe_transformation_name\\\":\\\"Select/Drop Cols\\\",\\\"fe_transformation_id\\\":\\\"DC9\\\",\\\"infoContent\\\":null,\\\"isMultiJoin\\\":false,\\\"hasIndexDropdown\\\":false,\\\"parents\\\":[\\\"27\\\"],\\\"formData\\\":{\\\"columns\\\":[\\\"API14\\\",\\\"ParentChildBoundingAnyZoneAtDrill\\\",\\\"ParentChildBoundingHzAtDrill\\\",\\\"ParentChildBoundingAboveAtDrill\\\",\\\"ParentChildBoundingBelowAtDrill\\\",\\\"ParentChildBoundingStackedAtDrill\\\",\\\"ParentChildAnyZone\\\",\\\"ParentChildHz\\\",\\\"ParentChildAbove\\\",\\\"ParentChildBelow\\\",\\\"ParentChildStacked\\\"],\\\"option\\\":1,\\\"is_scheduled\\\":true},\\\"nodeTables\\\":[{\\\"tableName\\\":\\\"Multiple Dataframe Join_task27_preview\\\",\\\"tableId\\\":\\\"62ceccb6c935188c17a34eab\\\"}],\\\"isSource\\\":false,\\\"nodeKey\\\":\\\"34\\\",\\\"color\\\":\\\"#8796c0\\\",\\\"status\\\":\\\"\\\",\\\"nodeLevel\\\":6,\\\"showOptions\\\":false,\\\"showEdit\\\":false},{\\\"childs\\\":[\\\"38\\\"],\\\"outputTable\\\":{\\\"PREVIEW\\\":{\\\"tableName\\\":\\\"Select or Drop Columns_task35_preview\\\",\\\"tableId\\\":\\\"62cef8a52f0dac51a7587500\\\"},\\\"TRAIN\\\":{\\\"tableName\\\":\\\"Select or Drop Columns_task35\\\",\\\"tableId\\\":\\\"62d01f9337c55171d31266e9\\\"}},\\\"parameters\\\":[{\\\"key\\\":\\\"columns\\\",\\\"type\\\":\\\"select\\\",\\\"templateOptions\\\":{\\\"label\\\":\\\"Select Columns\\\",\\\"options\\\":[],\\\"description\\\":\\\"Select the columns to select or to Drop\\\",\\\"required\\\":true,\\\"isStatic\\\":false,\\\"multiple\\\":true}},{\\\"key\\\":\\\"option\\\",\\\"type\\\":\\\"select\\\",\\\"templateOptions\\\":{\\\"label\\\":\\\"Select criteria\\\",\\\"multiple\\\":false,\\\"description\\\":\\\"Select the criteria for dropping nulls\\\",\\\"required\\\":true,\\\"isStatic\\\":true,\\\"options\\\":[{\\\"value\\\":1,\\\"label\\\":\\\"select\\\"},{\\\"value\\\":2,\\\"label\\\":\\\"drop\\\"}]}},{\\\"key\\\":\\\"is_scheduled\\\",\\\"type\\\":\\\"checkbox\\\",\\\"templateOptions\\\":{\\\"label\\\":\\\"Is Scheduled?\\\"}}],\\\"be_transformation_id\\\":\\\"T21\\\",\\\"be_transformation_name\\\":\\\"Select/Drop Columns\\\",\\\"fe_transformation_name\\\":\\\"Select/Drop Cols\\\",\\\"fe_transformation_id\\\":\\\"DC9\\\",\\\"infoContent\\\":null,\\\"isMultiJoin\\\":false,\\\"hasIndexDropdown\\\":false,\\\"parents\\\":[\\\"28\\\"],\\\"formData\\\":{\\\"columns\\\":[\\\"API14\\\",\\\"HSVLL_CLAMP_AVG\\\",\\\"GLMR_STRUCT_2ND_RESID\\\",\\\"HSVLL_RES_PRESSURE\\\",\\\"HSVLL_RES_TEMP\\\",\\\"HSVLL_OGIP\\\",\\\"HSVLL_PGRAD\\\",\\\"HSVLL_RICHNESS_BCFT\\\",\\\"HSVLL_TGRAD\\\",\\\"HSVLL_PHIT_AVG\\\",\\\"HSVLL_VCLAY\\\",\\\"HSVLL_VCARB\\\",\\\"HSVLL_TOC\\\"],\\\"option\\\":1,\\\"is_scheduled\\\":true},\\\"nodeTables\\\":[{\\\"tableName\\\":\\\"Multiple Dataframe Join_task28_preview\\\",\\\"tableId\\\":\\\"62cedb44d11bedd36ad73fcd\\\"}],\\\"isSource\\\":false,\\\"nodeKey\\\":\\\"35\\\",\\\"color\\\":\\\"#8796c0\\\",\\\"status\\\":\\\"\\\",\\\"nodeLevel\\\":6,\\\"showOptions\\\":false,\\\"showEdit\\\":false},{\\\"childs\\\":[\\\"37\\\",\\\"37\\\",\\\"37\\\"],\\\"outputTable\\\":{\\\"PREVIEW\\\":{\\\"tableName\\\":\\\"Select or Drop Columns_task36_preview\\\",\\\"tableId\\\":\\\"62cefa54ea41f690c6b6fe9b\\\"},\\\"TRAIN\\\":{\\\"tableName\\\":\\\"Select or Drop Columns_task36\\\",\\\"tableId\\\":\\\"62d01f764f9798bf77751022\\\"}},\\\"parameters\\\":[{\\\"key\\\":\\\"columns\\\",\\\"type\\\":\\\"select\\\",\\\"templateOptions\\\":{\\\"label\\\":\\\"Select Columns\\\",\\\"options\\\":[],\\\"description\\\":\\\"Select the columns to select or to Drop\\\",\\\"required\\\":true,\\\"isStatic\\\":false,\\\"multiple\\\":true}},{\\\"key\\\":\\\"option\\\",\\\"type\\\":\\\"select\\\",\\\"templateOptions\\\":{\\\"label\\\":\\\"Select criteria\\\",\\\"multiple\\\":false,\\\"description\\\":\\\"Select the criteria for dropping nulls\\\",\\\"required\\\":true,\\\"isStatic\\\":true,\\\"options\\\":[{\\\"value\\\":1,\\\"label\\\":\\\"select\\\"},{\\\"value\\\":2,\\\"label\\\":\\\"drop\\\"}]}},{\\\"key\\\":\\\"is_scheduled\\\",\\\"type\\\":\\\"checkbox\\\",\\\"templateOptions\\\":{\\\"label\\\":\\\"Is Scheduled?\\\"}}],\\\"be_transformation_id\\\":\\\"T21\\\",\\\"be_transformation_name\\\":\\\"Select/Drop Columns\\\",\\\"fe_transformation_name\\\":\\\"Select/Drop Cols\\\",\\\"fe_transformation_id\\\":\\\"DC9\\\",\\\"infoContent\\\":null,\\\"isMultiJoin\\\":false,\\\"hasIndexDropdown\\\":false,\\\"parents\\\":[\\\"30\\\"],\\\"formData\\\":{\\\"columns\\\":[\\\"API14\\\",\\\"GasCum1MonthPublic_MCF\\\",\\\"GasCum3MonthPublic_MCF\\\",\\\"GasCum6MonthPublic_MCF\\\",\\\"GasCum9MonthPublic_MCF\\\",\\\"GasCum12MonthPublic_MCF\\\",\\\"GasCum24MonthPublic_MCF\\\",\\\"GasCum60MonthPublic_MCF\\\"],\\\"option\\\":1,\\\"is_scheduled\\\":true},\\\"nodeTables\\\":[{\\\"tableName\\\":\\\"Multiple Dataframe Join_task30_preview\\\",\\\"tableId\\\":\\\"62ceddae045197fc31d632a2\\\"}],\\\"isSource\\\":false,\\\"nodeKey\\\":\\\"36\\\",\\\"color\\\":\\\"#8796c0\\\",\\\"status\\\":\\\"\\\",\\\"nodeLevel\\\":2,\\\"showOptions\\\":false,\\\"showEdit\\\":false},{\\\"childs\\\":[\\\"38\\\"],\\\"outputTable\\\":{\\\"PREVIEW\\\":{\\\"tableName\\\":\\\"Arithmetic Operations_task37_preview\\\",\\\"tableId\\\":\\\"62ceff75a64fd9ee2e25c310\\\"},\\\"TRAIN\\\":{\\\"tableName\\\":\\\"Arithmetic Operations_task37\\\",\\\"tableId\\\":\\\"62d01f910448823fad903f0d\\\"}},\\\"parameters\\\":[{\\\"key\\\":\\\"column_operator_pairs\\\",\\\"type\\\":\\\"repeat\\\",\\\"fieldArray\\\":{\\\"fieldGroupClassName\\\":\\\"form-row\\\",\\\"templateOptions\\\":{\\\"btnText\\\":\\\"Add Row\\\"},\\\"fieldGroup\\\":[{\\\"key\\\":\\\"column_1\\\",\\\"type\\\":\\\"select\\\",\\\"templateOptions\\\":{\\\"label\\\":\\\"Select Column 1\\\",\\\"options\\\":[],\\\"description\\\":\\\"Select column 1\\\",\\\"required\\\":true,\\\"isStatic\\\":false,\\\"multiple\\\":false}},{\\\"key\\\":\\\"column_2\\\",\\\"type\\\":\\\"select\\\",\\\"templateOptions\\\":{\\\"label\\\":\\\"Select Column 2\\\",\\\"options\\\":[],\\\"description\\\":\\\"Select column 2\\\",\\\"required\\\":true,\\\"isStatic\\\":false,\\\"multiple\\\":false}},{\\\"key\\\":\\\"operator\\\",\\\"type\\\":\\\"select\\\",\\\"templateOptions\\\":{\\\"label\\\":\\\"Select the Operator\\\",\\\"multiple\\\":false,\\\"description\\\":\\\"Select an arithmetic operator\\\",\\\"required\\\":true,\\\"isStatic\\\":true,\\\"options\\\":[{\\\"value\\\":1,\\\"label\\\":\\\"Addition\\\"},{\\\"value\\\":2,\\\"label\\\":\\\"Subtraction\\\"},{\\\"value\\\":3,\\\"label\\\":\\\"Multiplication\\\"},{\\\"value\\\":4,\\\"label\\\":\\\"Division\\\"}]}},{\\\"key\\\":\\\"new_column_name\\\",\\\"type\\\":\\\"input\\\",\\\"templateOptions\\\":{\\\"type\\\":\\\"string\\\",\\\"label\\\":\\\"Enter the Name of the New Column\\\",\\\"placeholder\\\":\\\"Enter the new column name\\\",\\\"description\\\":\\\"Enter the new column name\\\",\\\"required\\\":true}}]}},{\\\"key\\\":\\\"is_scheduled\\\",\\\"type\\\":\\\"checkbox\\\",\\\"templateOptions\\\":{\\\"label\\\":\\\"Is Scheduled?\\\"}}],\\\"be_transformation_id\\\":\\\"T22\\\",\\\"be_transformation_name\\\":\\\"arithematic_operation_btw_cols\\\",\\\"fe_transformation_name\\\":\\\"Arithmetic Operation\\\",\\\"fe_transformation_id\\\":\\\"E7\\\",\\\"infoContent\\\":null,\\\"isMultiJoin\\\":false,\\\"hasIndexDropdown\\\":false,\\\"parents\\\":[\\\"36\\\"],\\\"formData\\\":{\\\"column_operator_pairs\\\":[{\\\"column_1\\\":\\\"GasCum3MonthPublic_MCF\\\",\\\"column_2\\\":\\\"GasCum1MonthPublic_MCF\\\",\\\"operator\\\":2,\\\"new_column_name\\\":\\\"GasCum3MonthPublic_MCF_Delta\\\"},{\\\"column_1\\\":\\\"GasCum6MonthPublic_MCF\\\",\\\"column_2\\\":\\\"GasCum3MonthPublic_MCF\\\",\\\"operator\\\":2,\\\"new_column_name\\\":\\\"GasCum6MonthPublic_MCF_Delta\\\"},{\\\"column_1\\\":\\\"GasCum9MonthPublic_MCF\\\",\\\"column_2\\\":\\\"GasCum6MonthPublic_MCF\\\",\\\"operator\\\":2,\\\"new_column_name\\\":\\\"GasCum9MonthPublic_MCF_Delta\\\"},{\\\"column_1\\\":\\\"GasCum12MonthPublic_MCF\\\",\\\"column_2\\\":\\\"GasCum9MonthPublic_MCF\\\",\\\"operator\\\":2,\\\"new_column_name\\\":\\\"GasCum12MonthPublic_MCF_Delta\\\"},{\\\"column_1\\\":\\\"GasCum24MonthPublic_MCF\\\",\\\"column_2\\\":\\\"GasCum12MonthPublic_MCF\\\",\\\"operator\\\":2,\\\"new_column_name\\\":\\\"GasCum24MonthPublic_MCF_Delta\\\"},{\\\"column_1\\\":\\\"GasCum60MonthPublic_MCF\\\",\\\"column_2\\\":\\\"GasCum24MonthPublic_MCF\\\",\\\"operator\\\":2,\\\"new_column_name\\\":\\\"GasCum60MonthPublic_MCF_Delta\\\"}],\\\"is_scheduled\\\":true},\\\"nodeTables\\\":[{\\\"tableName\\\":\\\"Select or Drop Columns_task36_preview\\\",\\\"tableId\\\":\\\"62cefa54ea41f690c6b6fe9b\\\"}],\\\"isSource\\\":false,\\\"nodeKey\\\":\\\"37\\\",\\\"color\\\":\\\"#a8385d\\\",\\\"status\\\":\\\"\\\",\\\"nodeLevel\\\":3,\\\"showOptions\\\":false,\\\"showEdit\\\":false},{\\\"childs\\\":[],\\\"outputTable\\\":{\\\"PREVIEW\\\":{\\\"tableName\\\":\\\"Multiple Dataframe Join_task38_preview\\\",\\\"tableId\\\":\\\"62cf0280f8e390e07b842694\\\"},\\\"TRAIN\\\":{\\\"tableName\\\":\\\"Multiple Dataframe Join_task38\\\",\\\"tableId\\\":\\\"62d01fb04f9798bf77751024\\\"}},\\\"parameters\\\":[{\\\"key\\\":\\\"join_key_list\\\",\\\"type\\\":\\\"repeat\\\",\\\"fieldArray\\\":{\\\"fieldGroupClassName\\\":\\\"form-row\\\",\\\"templateOptions\\\":{\\\"showAdd\\\":false,\\\"showRemove\\\":false},\\\"fieldGroup\\\":[{\\\"key\\\":\\\"keys\\\",\\\"type\\\":\\\"select\\\",\\\"templateOptions\\\":{\\\"label\\\":\\\"Select join columns between \\\",\\\"options\\\":[],\\\"description\\\":\\\"Select columns on which the join is to be applied\\\",\\\"required\\\":true,\\\"isStatic\\\":false,\\\"multiple\\\":true}},{\\\"key\\\":\\\"join_type\\\",\\\"type\\\":\\\"select\\\",\\\"templateOptions\\\":{\\\"label\\\":\\\"Select join type\\\",\\\"multiple\\\":false,\\\"description\\\":\\\"Select the type of join\\\",\\\"required\\\":true,\\\"isStatic\\\":true,\\\"options\\\":[{\\\"value\\\":1,\\\"label\\\":\\\"inner\\\"},{\\\"value\\\":2,\\\"label\\\":\\\"left\\\"},{\\\"value\\\":3,\\\"label\\\":\\\"right\\\"},{\\\"value\\\":4,\\\"label\\\":\\\"outer\\\"},{\\\"value\\\":5,\\\"label\\\":\\\"leftsemi\\\"},{\\\"value\\\":6,\\\"label\\\":\\\"leftanti\\\"},{\\\"value\\\":7,\\\"label\\\":\\\"cross\\\"}]}}]},\\\"templateOptions\\\":{\\\"dependOn\\\":\\\"parent\\\"}},{\\\"key\\\":\\\"is_scheduled\\\",\\\"type\\\":\\\"checkbox\\\",\\\"templateOptions\\\":{\\\"label\\\":\\\"Is Scheduled?\\\"}}],\\\"be_transformation_id\\\":\\\"T55\\\",\\\"be_transformation_name\\\":\\\"Multiple Table Join\\\",\\\"fe_transformation_name\\\":\\\"Multiple Table Join\\\",\\\"fe_transformation_id\\\":\\\"JN2\\\",\\\"infoContent\\\":\\\"<p>Joins multiple dataframes in a sequential fashion i.e. If there are 3 dataframes that are to be joined, two join operations will take place. DF1 JOIN DF2 and result of first operation JOIN DF3. User can customise the type of join that will take place in each step as well as the columns on which this join will happen.</p>\\\",\\\"isMultiJoin\\\":true,\\\"hasIndexDropdown\\\":true,\\\"parents\\\":[\\\"33\\\",\\\"34\\\",\\\"35\\\",\\\"37\\\"],\\\"formData\\\":{\\\"join_key_list\\\":[{\\\"keys\\\":[\\\"API14\\\"],\\\"join_type\\\":1},{\\\"keys\\\":[\\\"API14\\\"],\\\"join_type\\\":1},{\\\"keys\\\":[\\\"API14\\\"],\\\"join_type\\\":1}],\\\"is_scheduled\\\":true},\\\"nodeTables\\\":[{\\\"tableName\\\":\\\"Select or Drop Columns_task33_preview\\\",\\\"tableId\\\":\\\"62cef2659063c0d0dbcc0331\\\"},{\\\"tableName\\\":\\\"Select or Drop Columns_task34_preview\\\",\\\"tableId\\\":\\\"62cef5fb2f0dac51a75874fe\\\"},{\\\"tableName\\\":\\\"Select or Drop Columns_task35_preview\\\",\\\"tableId\\\":\\\"62cef8a52f0dac51a7587500\\\"},{\\\"tableName\\\":\\\"Arithmetic Operations_task37_preview\\\",\\\"tableId\\\":\\\"62ceff75a64fd9ee2e25c310\\\"}],\\\"isSource\\\":false,\\\"nodeKey\\\":\\\"38\\\",\\\"color\\\":\\\"#aae3f5\\\",\\\"showEdit\\\":false,\\\"showOptions\\\":false,\\\"status\\\":\\\"\\\",\\\"nodeLevel\\\":4}],\\\"jobCreationDetails\\\":{\\\"job_id\\\":\\\"978794226928986\\\",\\\"run_id\\\":\\\"8538950\\\"},\\\"lastRunTaskLevel\\\":0,\\\"isJobRunning\\\":true,\\\"lastTaskRunMode\\\":\\\"TRAIN\\\",\\\"taskStatus\\\":{\\\"task2\\\":{\\\"end_time\\\":\\\"\\\",\\\"start_time\\\":\\\"1657810570264000\\\",\\\"status\\\":\\\"pending\\\",\\\"table_id\\\":\\\"\\\"},\\\"task3\\\":{\\\"end_time\\\":\\\"\\\",\\\"start_time\\\":\\\"1657810570264000\\\",\\\"status\\\":\\\"pending\\\",\\\"table_id\\\":\\\"\\\"},\\\"task4\\\":{\\\"end_time\\\":\\\"\\\",\\\"start_time\\\":\\\"1657810570264000\\\",\\\"status\\\":\\\"pending\\\",\\\"table_id\\\":\\\"\\\"},\\\"task5\\\":{\\\"end_time\\\":\\\"\\\",\\\"start_time\\\":\\\"1657810570264000\\\",\\\"status\\\":\\\"pending\\\",\\\"table_id\\\":\\\"\\\"},\\\"task6\\\":{\\\"end_time\\\":\\\"\\\",\\\"start_time\\\":\\\"1657810570264000\\\",\\\"status\\\":\\\"pending\\\",\\\"table_id\\\":\\\"\\\"},\\\"task8\\\":{\\\"end_time\\\":\\\"\\\",\\\"start_time\\\":\\\"1657810570264000\\\",\\\"status\\\":\\\"pending\\\",\\\"table_id\\\":\\\"\\\"},\\\"task15\\\":{\\\"end_time\\\":\\\"\\\",\\\"start_time\\\":\\\"1657810570264000\\\",\\\"status\\\":\\\"pending\\\",\\\"table_id\\\":\\\"\\\"},\\\"task16\\\":{\\\"end_time\\\":\\\"\\\",\\\"start_time\\\":\\\"1657810570264000\\\",\\\"status\\\":\\\"pending\\\",\\\"table_id\\\":\\\"\\\"},\\\"task18\\\":{\\\"end_time\\\":\\\"\\\",\\\"start_time\\\":\\\"1657810570264000\\\",\\\"status\\\":\\\"pending\\\",\\\"table_id\\\":\\\"\\\"},\\\"task19\\\":{\\\"end_time\\\":\\\"\\\",\\\"start_time\\\":\\\"1657810570264000\\\",\\\"status\\\":\\\"pending\\\",\\\"table_id\\\":\\\"\\\"},\\\"task20\\\":{\\\"end_time\\\":\\\"\\\",\\\"start_time\\\":\\\"1657810570264000\\\",\\\"status\\\":\\\"pending\\\",\\\"table_id\\\":\\\"\\\"},\\\"task26\\\":{\\\"end_time\\\":\\\"\\\",\\\"start_time\\\":\\\"1657810570264000\\\",\\\"status\\\":\\\"pending\\\",\\\"table_id\\\":\\\"\\\"},\\\"task27\\\":{\\\"end_time\\\":\\\"\\\",\\\"start_time\\\":\\\"1657810570264000\\\",\\\"status\\\":\\\"pending\\\",\\\"table_id\\\":\\\"\\\"},\\\"task28\\\":{\\\"end_time\\\":\\\"\\\",\\\"start_time\\\":\\\"1657810570264000\\\",\\\"status\\\":\\\"pending\\\",\\\"table_id\\\":\\\"\\\"},\\\"task29\\\":{\\\"end_time\\\":\\\"\\\",\\\"start_time\\\":\\\"1657810570264000\\\",\\\"status\\\":\\\"pending\\\",\\\"table_id\\\":\\\"\\\"},\\\"task30\\\":{\\\"end_time\\\":\\\"\\\",\\\"start_time\\\":\\\"1657810570264000\\\",\\\"status\\\":\\\"pending\\\",\\\"table_id\\\":\\\"\\\"},\\\"task31\\\":{\\\"end_time\\\":\\\"\\\",\\\"start_time\\\":\\\"1657810570264000\\\",\\\"status\\\":\\\"pending\\\",\\\"table_id\\\":\\\"\\\"},\\\"task33\\\":{\\\"end_time\\\":\\\"\\\",\\\"start_time\\\":\\\"1657810570264000\\\",\\\"status\\\":\\\"pending\\\",\\\"table_id\\\":\\\"\\\"},\\\"task34\\\":{\\\"end_time\\\":\\\"\\\",\\\"start_time\\\":\\\"1657810570264000\\\",\\\"status\\\":\\\"pending\\\",\\\"table_id\\\":\\\"\\\"},\\\"task35\\\":{\\\"end_time\\\":\\\"\\\",\\\"start_time\\\":\\\"1657810570264000\\\",\\\"status\\\":\\\"pending\\\",\\\"table_id\\\":\\\"\\\"},\\\"task36\\\":{\\\"end_time\\\":\\\"\\\",\\\"start_time\\\":\\\"1657810570264000\\\",\\\"status\\\":\\\"pending\\\",\\\"table_id\\\":\\\"\\\"},\\\"task37\\\":{\\\"end_time\\\":\\\"\\\",\\\"start_time\\\":\\\"1657810570264000\\\",\\\"status\\\":\\\"pending\\\",\\\"table_id\\\":\\\"\\\"},\\\"task38\\\":{\\\"end_time\\\":\\\"\\\",\\\"start_time\\\":\\\"1657810570264000\\\",\\\"status\\\":\\\"pending\\\",\\\"table_id\\\":\\\"\\\"}}}\"\n",
    "}"
   ]
  },
  {
   "cell_type": "code",
   "execution_count": 2,
   "id": "f2796298-3c39-4b9e-a198-80a741231ff2",
   "metadata": {},
   "outputs": [
    {
     "data": {
      "text/plain": [
       "[{'task_key': 'task2',\n",
       "  'task_type': 'Data_Ingestion',\n",
       "  'depends_on': [],\n",
       "  'is_scheduled': '1',\n",
       "  'is_mutated': 0,\n",
       "  'table_id': '62cfb47ddeda43bab6724505'},\n",
       " {'task_key': 'task3',\n",
       "  'task_type': 'Transform',\n",
       "  'depends_on': [{'task_key': 'task2'}],\n",
       "  'is_scheduled': '1',\n",
       "  'is_mutated': 0,\n",
       "  'transform_info': '{\"transformation_type\":\"T58\",\"filter_objects\":[{\"column_name\":\"HoleDirection\",\"condition_id\":1,\"values\":\"H\"}],\"is_scheduled\":true,\"final_transform\":false}'}]"
      ]
     },
     "execution_count": 2,
     "metadata": {},
     "output_type": "execute_result"
    }
   ],
   "source": [
    "## Creating List of tasks\n",
    "\n",
    "tasks = obj[\"Tasks\"]\n",
    "tasks[:2]"
   ]
  },
  {
   "cell_type": "markdown",
   "id": "49737fd2-7a42-4b41-93ef-3de92f39ccc2",
   "metadata": {},
   "source": [
    "#### Creating task object (task_key -> depends_on), Root Tasks, mutated tasks"
   ]
  },
  {
   "cell_type": "code",
   "execution_count": 3,
   "id": "a22c20ca-0a71-46b5-90c1-8bcd4a43d8a4",
   "metadata": {},
   "outputs": [],
   "source": [
    "parent_tasks = list()\n",
    "tasks_obj = dict()\n",
    "mutated_tasks = set()\n",
    "\n",
    "for task_obj in tasks:\n",
    "    \n",
    "    depends_on = [list(x.values())[0] for x in task_obj[\"depends_on\"]]\n",
    "    if task_obj[\"is_mutated\"] == 1:\n",
    "        mutated_tasks.add(task_obj[\"task_key\"])\n",
    "   \n",
    "    tasks_obj[task_obj[\"task_key\"]] = depends_on\n",
    "    \n",
    "    if len(task_obj[\"depends_on\"]) == 0:\n",
    "        parent_tasks.append(task_obj[\"task_key\"])"
   ]
  },
  {
   "cell_type": "code",
   "execution_count": 4,
   "id": "d7d9e657-8540-4a53-812c-b098ac56b2c8",
   "metadata": {},
   "outputs": [
    {
     "data": {
      "text/plain": [
       "{'task2': [],\n",
       " 'task3': ['task2'],\n",
       " 'task4': ['task3'],\n",
       " 'task5': [],\n",
       " 'task6': [],\n",
       " 'task8': ['task4'],\n",
       " 'task15': ['task6'],\n",
       " 'task16': ['task5', 'task8'],\n",
       " 'task18': ['task16'],\n",
       " 'task19': ['task8', 'task15'],\n",
       " 'task20': ['task19'],\n",
       " 'task26': ['task31'],\n",
       " 'task27': ['task26', 'task18'],\n",
       " 'task28': ['task26', 'task20'],\n",
       " 'task29': [],\n",
       " 'task30': ['task26', 'task29'],\n",
       " 'task31': ['task4'],\n",
       " 'task33': ['task4'],\n",
       " 'task34': ['task27'],\n",
       " 'task35': ['task28'],\n",
       " 'task36': ['task30'],\n",
       " 'task37': ['task36'],\n",
       " 'task38': ['task33', 'task34', 'task35', 'task37']}"
      ]
     },
     "execution_count": 4,
     "metadata": {},
     "output_type": "execute_result"
    }
   ],
   "source": [
    "tasks_obj"
   ]
  },
  {
   "cell_type": "code",
   "execution_count": 5,
   "id": "23f89795-3942-4c12-b3ac-cf8c023a9625",
   "metadata": {},
   "outputs": [
    {
     "data": {
      "text/plain": [
       "['task2', 'task5', 'task6', 'task29']"
      ]
     },
     "execution_count": 5,
     "metadata": {},
     "output_type": "execute_result"
    }
   ],
   "source": [
    "parent_tasks"
   ]
  },
  {
   "cell_type": "code",
   "execution_count": 6,
   "id": "67e3648e-068c-4ab1-b28d-eef709064729",
   "metadata": {},
   "outputs": [
    {
     "data": {
      "text/plain": [
       "{'task26', 'task33'}"
      ]
     },
     "execution_count": 6,
     "metadata": {},
     "output_type": "execute_result"
    }
   ],
   "source": [
    "mutated_tasks"
   ]
  },
  {
   "cell_type": "markdown",
   "id": "9b066b25-16e1-4e6d-a465-8bdaf31fa970",
   "metadata": {},
   "source": [
    "#### Tree Node Class"
   ]
  },
  {
   "cell_type": "code",
   "execution_count": 7,
   "id": "5ec27db3-a767-418a-8f66-f8926e534578",
   "metadata": {},
   "outputs": [],
   "source": [
    "class Node:\n",
    "    def __init__(self, value):\n",
    "        self.value = value\n",
    "        self.children = list()\n",
    "        \n",
    "    def __repr__(self):\n",
    "        return f\"Node({self.value})\""
   ]
  },
  {
   "cell_type": "markdown",
   "id": "a381d59c-b678-463f-acf5-a09b41a2459d",
   "metadata": {},
   "source": [
    "#### Creating node of each task"
   ]
  },
  {
   "cell_type": "code",
   "execution_count": 8,
   "id": "de0c44c8-58af-460c-b4f3-936b5a81b003",
   "metadata": {},
   "outputs": [],
   "source": [
    "nodes = dict()\n",
    "\n",
    "for task in tasks_obj.keys():\n",
    "    nodes[task] = Node(task)"
   ]
  },
  {
   "cell_type": "code",
   "execution_count": 9,
   "id": "1f154fd6-f33c-45d8-b5df-afc78b731fe3",
   "metadata": {},
   "outputs": [
    {
     "data": {
      "text/plain": [
       "{'task2': Node(task2),\n",
       " 'task3': Node(task3),\n",
       " 'task4': Node(task4),\n",
       " 'task5': Node(task5),\n",
       " 'task6': Node(task6),\n",
       " 'task8': Node(task8),\n",
       " 'task15': Node(task15),\n",
       " 'task16': Node(task16),\n",
       " 'task18': Node(task18),\n",
       " 'task19': Node(task19),\n",
       " 'task20': Node(task20),\n",
       " 'task26': Node(task26),\n",
       " 'task27': Node(task27),\n",
       " 'task28': Node(task28),\n",
       " 'task29': Node(task29),\n",
       " 'task30': Node(task30),\n",
       " 'task31': Node(task31),\n",
       " 'task33': Node(task33),\n",
       " 'task34': Node(task34),\n",
       " 'task35': Node(task35),\n",
       " 'task36': Node(task36),\n",
       " 'task37': Node(task37),\n",
       " 'task38': Node(task38)}"
      ]
     },
     "execution_count": 9,
     "metadata": {},
     "output_type": "execute_result"
    }
   ],
   "source": [
    "nodes"
   ]
  },
  {
   "cell_type": "markdown",
   "id": "7607ba35-4101-4214-a98b-ff1354750447",
   "metadata": {},
   "source": [
    "#### Creating object (Parent task --> child tasks) "
   ]
  },
  {
   "cell_type": "code",
   "execution_count": 10,
   "id": "1e3dcd78-844e-4dbf-a652-235846b67fa1",
   "metadata": {},
   "outputs": [],
   "source": [
    "parent_children_obj = dict()\n",
    "\n",
    "parent_children_obj = {}\n",
    "\n",
    "for k,v in tasks_obj.items():\n",
    "    for x in v:\n",
    "        parent_children_obj.setdefault(x,[]).append(k)"
   ]
  },
  {
   "cell_type": "code",
   "execution_count": 11,
   "id": "36891238-17c8-4d39-a7b4-1f034139acbf",
   "metadata": {},
   "outputs": [
    {
     "data": {
      "text/plain": [
       "{'task2': ['task3'],\n",
       " 'task3': ['task4'],\n",
       " 'task4': ['task8', 'task31', 'task33'],\n",
       " 'task6': ['task15'],\n",
       " 'task5': ['task16'],\n",
       " 'task8': ['task16', 'task19'],\n",
       " 'task16': ['task18'],\n",
       " 'task15': ['task19'],\n",
       " 'task19': ['task20'],\n",
       " 'task31': ['task26'],\n",
       " 'task26': ['task27', 'task28', 'task30'],\n",
       " 'task18': ['task27'],\n",
       " 'task20': ['task28'],\n",
       " 'task29': ['task30'],\n",
       " 'task27': ['task34'],\n",
       " 'task28': ['task35'],\n",
       " 'task30': ['task36'],\n",
       " 'task36': ['task37'],\n",
       " 'task33': ['task38'],\n",
       " 'task34': ['task38'],\n",
       " 'task35': ['task38'],\n",
       " 'task37': ['task38']}"
      ]
     },
     "execution_count": 11,
     "metadata": {},
     "output_type": "execute_result"
    }
   ],
   "source": [
    "parent_children_obj"
   ]
  },
  {
   "cell_type": "markdown",
   "id": "75d2dc8a-8591-48a9-b8bb-fc7ac45d3d38",
   "metadata": {},
   "source": [
    "#### Assigning child nodes to each task node"
   ]
  },
  {
   "cell_type": "code",
   "execution_count": 12,
   "id": "1dc1bce6-5b88-43de-a6e4-ca84ec9c88b4",
   "metadata": {},
   "outputs": [],
   "source": [
    "for parent, children in parent_children_obj.items():\n",
    "    nodes[parent].children = [nodes[x] for x in children]"
   ]
  },
  {
   "cell_type": "code",
   "execution_count": 13,
   "id": "30c9c009-aa31-4644-9aa3-13159219bf5e",
   "metadata": {},
   "outputs": [
    {
     "name": "stdout",
     "output_type": "stream",
     "text": [
      "Node(task2) ---> [Node(task3)]\n",
      "Node(task3) ---> [Node(task4)]\n",
      "Node(task4) ---> [Node(task8), Node(task31), Node(task33)]\n"
     ]
    }
   ],
   "source": [
    "print(f'{nodes[\"task2\"]} ---> {nodes[\"task2\"].children}')\n",
    "print(f'{nodes[\"task3\"]} ---> {nodes[\"task3\"].children}')\n",
    "print(f'{nodes[\"task4\"]} ---> {nodes[\"task4\"].children}')"
   ]
  },
  {
   "cell_type": "markdown",
   "id": "cfee77f0-8468-49af-adc7-855b6478cff1",
   "metadata": {},
   "source": [
    "#### Lead Node"
   ]
  },
  {
   "cell_type": "code",
   "execution_count": 14,
   "id": "0cd7b653-9496-4734-bcdc-5ce3ec9806d8",
   "metadata": {},
   "outputs": [
    {
     "data": {
      "text/plain": [
       "[]"
      ]
     },
     "execution_count": 14,
     "metadata": {},
     "output_type": "execute_result"
    }
   ],
   "source": [
    "nodes[\"task38\"].children"
   ]
  },
  {
   "cell_type": "markdown",
   "id": "5e4e625a-0ae3-4c42-beb6-64613291a521",
   "metadata": {},
   "source": [
    "#### Traverse through all the children for a given node"
   ]
  },
  {
   "cell_type": "code",
   "execution_count": 15,
   "id": "32d4f8ca-772c-4b5d-b520-e8e5381a9dd3",
   "metadata": {},
   "outputs": [],
   "source": [
    "def get_all_children(node):\n",
    "    \n",
    "    all_children = []\n",
    "    \n",
    "    nodes_to_traverse = node.children\n",
    "    while len(nodes_to_traverse) > 0:\n",
    "        curr_node = nodes_to_traverse.pop()\n",
    "        all_children.append(curr_node.value)\n",
    "        if curr_node.children:\n",
    "            nodes_to_traverse.extend(curr_node.children)\n",
    "            \n",
    "    return list(set(all_children))"
   ]
  },
  {
   "cell_type": "markdown",
   "id": "8b44aeb2-e5c7-4a19-aa8f-6bb6153d6a07",
   "metadata": {},
   "source": [
    "#### Create tasks to run "
   ]
  },
  {
   "cell_type": "code",
   "execution_count": 16,
   "id": "9db5d4f0-d742-4232-ad02-98982cb461ad",
   "metadata": {},
   "outputs": [
    {
     "name": "stdout",
     "output_type": "stream",
     "text": [
      "task33\n",
      "task26\n"
     ]
    }
   ],
   "source": [
    "run_tasks = []\n",
    "\n",
    "# Loop through root tasks(with no parent)\n",
    "for root_node_val in parent_tasks:\n",
    "    \n",
    "    # Get Root Node from nodes\n",
    "    root_node = nodes[root_node_val]\n",
    "    # list of nodes to traverse\n",
    "    nodes_to_traverse = root_node.children\n",
    "    \n",
    "    while len(nodes_to_traverse) > 0:\n",
    "        # pop last element from the list of nodes to traverse\n",
    "        curr_node = nodes_to_traverse.pop()\n",
    "        \n",
    "        # if node is mutated, get all the child nodes & continue to next node for traversal\n",
    "        if curr_node.value in mutated_tasks:\n",
    "            print(curr_node.value)\n",
    "            run_tasks.append(curr_node.value)\n",
    "            run_tasks.extend(get_all_children(curr_node))\n",
    "            continue\n",
    "        \n",
    "        # add children of current node in nodes to traverse list\n",
    "        if curr_node.children:\n",
    "            nodes_to_traverse.extend(curr_node.children)"
   ]
  },
  {
   "cell_type": "code",
   "execution_count": 17,
   "id": "096d099e-3a46-43f1-8965-660c5840fadc",
   "metadata": {},
   "outputs": [
    {
     "data": {
      "text/plain": [
       "['task34',\n",
       " 'task37',\n",
       " 'task27',\n",
       " 'task30',\n",
       " 'task26',\n",
       " 'task33',\n",
       " 'task36',\n",
       " 'task28',\n",
       " 'task35',\n",
       " 'task38']"
      ]
     },
     "execution_count": 17,
     "metadata": {},
     "output_type": "execute_result"
    }
   ],
   "source": [
    "run_tasks = list(set(run_tasks))\n",
    "run_tasks"
   ]
  }
 ],
 "metadata": {
  "kernelspec": {
   "display_name": "Python 3 (ipykernel)",
   "language": "python",
   "name": "python3"
  },
  "language_info": {
   "codemirror_mode": {
    "name": "ipython",
    "version": 3
   },
   "file_extension": ".py",
   "mimetype": "text/x-python",
   "name": "python",
   "nbconvert_exporter": "python",
   "pygments_lexer": "ipython3",
   "version": "3.8.12"
  }
 },
 "nbformat": 4,
 "nbformat_minor": 5
}
